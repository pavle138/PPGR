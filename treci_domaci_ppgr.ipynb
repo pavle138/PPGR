{
 "cells": [
  {
   "cell_type": "code",
   "execution_count": 2,
   "id": "9ed9eb03-31f0-42ff-8213-324dd47a6ec0",
   "metadata": {},
   "outputs": [],
   "source": [
    "import numpy as np\n",
    "import scipy as sp"
   ]
  },
  {
   "cell_type": "code",
   "execution_count": 3,
   "id": "8f48fc07-f3ef-474f-a171-62ad9c39f8e5",
   "metadata": {},
   "outputs": [],
   "source": [
    "def rodrigez(fi,p):\n",
    "    e=np.eye(3)\n",
    "    px=np.array([[0,-p[2],p[1]],\n",
    "                 [p[2],0,-p[0]],\n",
    "                 [-p[1],p[0],0]])\n",
    "    ppT=np.array([[p[0]**2,p[0]*p[1],p[0]*p[2]]\n",
    "                 ,[p[1]*p[0],p[1]**2,p[1]*p[2]]\n",
    "                 ,[p[2]*p[0],p[2]*p[1],p[2]**2]])\n",
    "    return (1-np.cos(fi))*ppT+np.cos(fi)*e+np.sin(fi)*px"
   ]
  },
  {
   "cell_type": "code",
   "execution_count": 27,
   "id": "3f3d59cd-29b5-44c3-a524-5f557e167812",
   "metadata": {},
   "outputs": [],
   "source": [
    "def nadji_vektor(sopstveni_vektori):\n",
    "    for i in range(len(sopstveni_vektori)):\n",
    "        j=0;\n",
    "        for elem in sopstveni_vektori[:,i]:\n",
    "            if elem.imag != 0:\n",
    "                break\n",
    "            j+=1;\n",
    "        if j==3:\n",
    "            return sopstveni_vektori[:,i]\n",
    "    raise Exception(\"Nema odgovarajuceg vektora!\")"
   ]
  },
  {
   "cell_type": "code",
   "execution_count": 32,
   "id": "678c50eb-f537-46c9-8e2c-c24f7a553abd",
   "metadata": {},
   "outputs": [],
   "source": [
    "def A2AxisAngle(A):\n",
    "# 1. Odredi jedinicni sopstveni vektor p za lambda=1\n",
    "# 2. Odredi proizvoljan jedinicni vektor u normalan na p\n",
    "# 3. Odredi u_prim koji je jednak A*u (u_prim je jedinicni)\n",
    "# 4. Odredi fi koji je jednak arccos(u,u_prim)\n",
    "# 5. Ako je mesoviti proizvod u,u_prim,p < 0, onda p=-p\n",
    "# 1.\n",
    "    sopstvene_vrednosti,sopstveni_vektori=sp.linalg.eig(A,left=True,right=False)\n",
    "    # p=sopstveni_vektori[:,2] # Problem: Rucno biram odgovarajuci sopstveni vektor, jer nije tacno resenje sa svakim!\n",
    "    p=nadji_vektor(sopstveni_vektori)\n",
    "    p=np.array(p)\n",
    "    p=np.real(p)\n",
    "# 2. Gram Šmit ortogonalizacija\n",
    "    u = np.array([1.0,2.0,3.0])\n",
    "    u -= u.dot(p) * p / np.linalg.norm(p)**2 \n",
    "    u /= np.linalg.norm(u)\n",
    "# 3.\n",
    "    u_prim=A@u\n",
    "    u_prim/=np.linalg.norm(u_prim)\n",
    "# 4.    \n",
    "    fi=np.arccos(u.dot(u_prim)/(np.linalg.norm(u)*np.linalg.norm(u_prim)))\n",
    "# 5.\n",
    "    if np.dot(u,np.cross(u_prim,p)) < 0:\n",
    "        p=-p\n",
    "    return p,fi"
   ]
  },
  {
   "cell_type": "code",
   "execution_count": 13,
   "id": "7dbcec6b-0b46-4b91-9229-42c469ad6e55",
   "metadata": {
    "editable": true,
    "slideshow": {
     "slide_type": ""
    },
    "tags": []
   },
   "outputs": [],
   "source": [
    "def A2Euler(A):\n",
    "    if A[2][0] < 1:\n",
    "        if A[2][0] > -1: #jedinstveno resenje\n",
    "            psi=np.arctan2(A[1][0],A[0][0])\n",
    "            teta=np.arcsin(-A[2][0])\n",
    "            fi=np.arctan2(A[2][1],A[2][2])\n",
    "            return psi,teta,fi\n",
    "        else: # Ox3=-Oz\n",
    "            psi=np.arctan2(-A[0][1],A[1][1])\n",
    "            teta=np.pi/2\n",
    "            fi=0\n",
    "            return psi,teta,fi\n",
    "    else: #Ox3=Oz\n",
    "        psi=np.arctan2(-A[0][1],A[1][1])\n",
    "        teta=-np.pi/2\n",
    "        fi=0\n",
    "        return [psi,teta,fi]"
   ]
  },
  {
   "cell_type": "code",
   "execution_count": 12,
   "id": "7c8edda5-33a0-4587-9f63-1ef141f3cd66",
   "metadata": {},
   "outputs": [],
   "source": [
    "def Euler2A(uglovi):\n",
    "    return rodrigez(uglovi[0],[0,0,1])@rodrigez(uglovi[1],[0,1,0])@rodrigez(uglovi[2],[1,0,0])"
   ]
  },
  {
   "cell_type": "code",
   "execution_count": 19,
   "id": "61f27ddd-4067-4fbf-9892-0031f6b5148c",
   "metadata": {},
   "outputs": [],
   "source": [
    "def AxisAngle2A(pphi):\n",
    "    return rodrigez(pphi[3],[pphi[0],pphi[1],pphi[2]])"
   ]
  },
  {
   "cell_type": "code",
   "execution_count": 31,
   "id": "e8a91092-e3c3-4819-aa4f-0e5066c840e9",
   "metadata": {
    "editable": true,
    "slideshow": {
     "slide_type": ""
    },
    "tags": []
   },
   "outputs": [
    {
     "name": "stdout",
     "output_type": "stream",
     "text": [
      "[[ 0.11111111 -0.8888889  -0.44444445]\n",
      " [ 0.44444445  0.44444445 -0.7777778 ]\n",
      " [ 0.8888889  -0.11111111  0.44444445]]\n",
      "[0.18490002 0.73960031 0.64715018]\n",
      "[-0.92450036 -0.09245     0.36980006]\n",
      "1.5707963303609802\n",
      "[ 0.33333343 -0.6666666   0.6666667 ]\n"
     ]
    },
    {
     "data": {
      "text/plain": [
       "array([[ 0.11111117, -0.88888896, -0.44444433],\n",
       "       [ 0.44444442,  0.44444439, -0.77777785],\n",
       "       [ 0.88888893, -0.11111099,  0.44444447]])"
      ]
     },
     "execution_count": 31,
     "metadata": {},
     "output_type": "execute_result"
    }
   ],
   "source": [
    "A=np.array([[1,-8,-4],[4,4,-7],[8,-1,4]],dtype='float32')\n",
    "A=A/9\n",
    "print(A)\n",
    "p,fi=A2AxisAngle(A)\n",
    "print(fi)\n",
    "print(p)\n",
    "rodrigez(fi,p)"
   ]
  },
  {
   "cell_type": "code",
   "execution_count": 217,
   "id": "17b26618-1f08-4d8d-9878-8f6c916973f6",
   "metadata": {},
   "outputs": [
    {
     "data": {
      "text/plain": [
       "(1.3258177, -1.0949141, -0.24497867)"
      ]
     },
     "execution_count": 217,
     "metadata": {},
     "output_type": "execute_result"
    }
   ],
   "source": [
    "A2Euler(A)"
   ]
  },
  {
   "cell_type": "code",
   "execution_count": 14,
   "id": "70f49be2-abbb-441d-b853-670f0d7e29e2",
   "metadata": {},
   "outputs": [
    {
     "data": {
      "text/plain": [
       "array([[ 0.1111111 , -0.88888886, -0.44444441],\n",
       "       [ 0.44444444,  0.4444444 , -0.77777776],\n",
       "       [ 0.8888889 , -0.11111111,  0.44444444]])"
      ]
     },
     "execution_count": 14,
     "metadata": {},
     "output_type": "execute_result"
    }
   ],
   "source": [
    "Euler2A(A2Euler(A))"
   ]
  },
  {
   "cell_type": "code",
   "execution_count": 20,
   "id": "54d4e806-da8b-4220-96a8-38865848067c",
   "metadata": {},
   "outputs": [
    {
     "data": {
      "text/plain": [
       "array([[ 0.11111111, -0.88888889, -0.44444444],\n",
       "       [ 0.44444444,  0.44444444, -0.77777778],\n",
       "       [ 0.88888889, -0.11111111,  0.44444444]])"
      ]
     },
     "execution_count": 20,
     "metadata": {},
     "output_type": "execute_result"
    }
   ],
   "source": [
    "AxisAngle2A(np.array([1/3,-2/3,2/3,np.pi/2]))"
   ]
  },
  {
   "cell_type": "code",
   "execution_count": 22,
   "id": "3dcdf46f-76c9-495b-883b-4f26738de726",
   "metadata": {},
   "outputs": [
    {
     "name": "stdout",
     "output_type": "stream",
     "text": [
      "[[ 0.6666667 +0.j         0.6666667 -0.j         0.33333343+0.j       ]\n",
      " [ 0.16666652-0.4999999j  0.16666652+0.4999999j -0.6666666 +0.j       ]\n",
      " [-0.16666675-0.5j       -0.16666675+0.5j        0.6666667 +0.j       ]]\n",
      "[[ 0.6666667 +0.j  0.6666667 -0.j  0.33333343+0.j]\n",
      " [ 0.        +0.j  0.        +0.j -0.6666666 +0.j]\n",
      " [ 0.        +0.j  0.        +0.j  0.6666667 +0.j]]\n"
     ]
    }
   ],
   "source": [
    "sopstvene_vrednosti,sopstveni_vektori=sp.linalg.eig(A,left=True,right=False)\n",
    "print(sopstveni_vektori)\n",
    "B=np.where(sopstveni_vektori.imag == 0, sopstveni_vektori, 0)\n",
    "print(B)"
   ]
  },
  {
   "cell_type": "code",
   "execution_count": 26,
   "id": "b315886a-6b62-42d9-a2b9-50806b417dea",
   "metadata": {},
   "outputs": [
    {
     "name": "stdout",
     "output_type": "stream",
     "text": [
      "[ 0.33333343+0.j -0.6666666 +0.j  0.6666667 +0.j]\n"
     ]
    }
   ],
   "source": [
    "print(nadji_vektor(sopstveni_vektori))"
   ]
  },
  {
   "cell_type": "code",
   "execution_count": null,
   "id": "68a273bd-a6b2-4435-a2f0-7608a966e9f1",
   "metadata": {},
   "outputs": [],
   "source": []
  }
 ],
 "metadata": {
  "kernelspec": {
   "display_name": "Python 3 (ipykernel)",
   "language": "python",
   "name": "python3"
  },
  "language_info": {
   "codemirror_mode": {
    "name": "ipython",
    "version": 3
   },
   "file_extension": ".py",
   "mimetype": "text/x-python",
   "name": "python",
   "nbconvert_exporter": "python",
   "pygments_lexer": "ipython3",
   "version": "3.8.18"
  }
 },
 "nbformat": 4,
 "nbformat_minor": 5
}
