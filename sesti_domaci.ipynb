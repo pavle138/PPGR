{
 "cells": [
  {
   "cell_type": "code",
   "execution_count": 25,
   "id": "e84c4ea6-69ae-49f5-8ffe-c4dafc7027ea",
   "metadata": {},
   "outputs": [],
   "source": [
    "def piksel(koord):\n",
    "    return np.array([1,-1,-1])*(np.array([1600,0,0])-koord) #promeni 1600 za sliku"
   ]
  },
  {
   "cell_type": "code",
   "execution_count": 27,
   "id": "fe67408a-b957-4fc4-a50e-e374a7768ccb",
   "metadata": {},
   "outputs": [],
   "source": [
    "def fundJed(xl,xd):\n",
    "    return np.array([xl[0]*xd[0],xl[1]*xd[0],xl[2]*xd[0],xl[0]*xd[1],xl[1]*xd[1],xl[2]*xd[1],xl[0]*xd[2],xl[1]*xd[2],xl[2]*xd[2]])"
   ]
  },
  {
   "cell_type": "code",
   "execution_count": 34,
   "id": "dac73f49-5034-47a9-9c60-a01d4e8c85e7",
   "metadata": {},
   "outputs": [],
   "source": [
    "def fundamentalnaMatrica(leve,desne):\n",
    "    a=[]\n",
    "    for x,xp in zip(leve,desne):\n",
    "        jed= fundJed(x,xp)\n",
    "        a.append(jed)\n",
    "    a = np.array(a)\n",
    "    U, D, V = np.linalg.svd(a)\n",
    "    f = V[-1]\n",
    "    f = f.reshape(3,3)\n",
    "    return f"
   ]
  },
  {
   "cell_type": "code",
   "execution_count": 37,
   "id": "1f234819-bbc5-49eb-8e0d-53bb8d607cb1",
   "metadata": {},
   "outputs": [],
   "source": [
    "def skew2v(EC):\n",
    "    return np.array([EC[2][1],EC[0][2],EC[1][0]])"
   ]
  },
  {
   "cell_type": "code",
   "execution_count": 39,
   "id": "8b6b86d8-01e4-4017-8cdc-7650251da7aa",
   "metadata": {},
   "outputs": [],
   "source": [
    "def dekomponuj(e):\n",
    "    q0=np.array([[0,-1,0],[1,0,0],[0,0,1]])\n",
    "    e0=np.array([[0,1,0],[-1,0,0],[0,0,0]])\n",
    "    U,S,V=np.linalg.svd(e)\n",
    "    EC=U@e0@U.T\n",
    "    A=U@q0.T@V.T #probaj verziju bez transponovanih q0,v ako nesto ne valja\n",
    "    return A,skew2v(EC) #skew2v mozda vrati suprotan znak, stavi mu minus ako ne valja"
   ]
  },
  {
   "cell_type": "code",
   "execution_count": 42,
   "id": "9a7df840-fe89-4168-835a-f8ab3e3ea469",
   "metadata": {},
   "outputs": [],
   "source": [
    "def kamera1(e):\n",
    "    A,C=dekomponuj(e)\n",
    "    C=k1 @ -A.T @ C\n",
    "    A=K1 @ A.T\n",
    "    return np.append(A.T,C).T"
   ]
  },
  {
   "cell_type": "code",
   "execution_count": 43,
   "id": "e3e8b238-5847-4906-90ee-b4850684a44f",
   "metadata": {},
   "outputs": [],
   "source": [
    "def triangulisi(T1,T2,pt1,pt2):\n",
    "    a=np.array([]) #ima na slajdovima\n",
    "    U,S,V=np.linalg.svd(a)\n",
    "    pt=V[3] # valjda moze -1\n",
    "    pt=(1/pt[3])*pt\n",
    "    pt=np.where(pt==0,0.0,pt)\n",
    "    return np.array(pt)"
   ]
  },
  {
   "cell_type": "code",
   "execution_count": 44,
   "id": "aa101d42-9ed7-4d1d-a503-6186f85c9470",
   "metadata": {},
   "outputs": [],
   "source": [
    "def recPts(c1,c2,pts1,pts2):\n",
    "    a=[]\n",
    "    for x,xp in zip(pts1,pts2):\n",
    "        X=triangulisi(c1,c2,x,xp)\n",
    "        X=np.delete(X,-1)\n",
    "        a.append(X)\n",
    "    a = np.array(a)\n",
    "    return a"
   ]
  },
  {
   "cell_type": "code",
   "execution_count": 40,
   "id": "25dde0dd-b3bc-4ee7-b404-8b9a9a9da4ff",
   "metadata": {},
   "outputs": [],
   "source": [
    "K1=np.array([[1300,0,800],[0,1300,600],[0,0,1]])\n",
    "kam2=np.array([[1300,0,800,0],\n",
    "             [0,1600,600,0],\n",
    "             [0,0,1,0]])\n",
    "pts3D=recPts(kamera1(e),kam2,all1p,all2p)\n",
    "#f=fundamentalnaMatrica(piksel(),piksel())\n",
    "#osnovna matrica\n",
    "#e=np.transpose(K1)@f@K1\n",
    "    "
   ]
  }
 ],
 "metadata": {
  "kernelspec": {
   "display_name": "Python 3 (ipykernel)",
   "language": "python",
   "name": "python3"
  },
  "language_info": {
   "codemirror_mode": {
    "name": "ipython",
    "version": 3
   },
   "file_extension": ".py",
   "mimetype": "text/x-python",
   "name": "python",
   "nbconvert_exporter": "python",
   "pygments_lexer": "ipython3",
   "version": "3.8.18"
  }
 },
 "nbformat": 4,
 "nbformat_minor": 5
}
