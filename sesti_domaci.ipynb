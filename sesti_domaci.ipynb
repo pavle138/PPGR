{
 "cells": [
  {
   "cell_type": "code",
   "execution_count": 30,
   "id": "3e11bf88",
   "metadata": {},
   "outputs": [],
   "source": [
    "import numpy\n",
    "import numpy as np\n",
    "import math\n",
    "import plotly.graph_objects as go\n",
    "import plotly.express as px"
   ]
  },
  {
   "cell_type": "code",
   "execution_count": 3,
   "id": "e84c4ea6-69ae-49f5-8ffe-c4dafc7027ea",
   "metadata": {},
   "outputs": [],
   "source": [
    "def piksel(koord):\n",
    "    return np.array([1,-1,-1])*(np.array([1600,0,0])-koord) #promeni 1600 za sliku"
   ]
  },
  {
   "cell_type": "code",
   "execution_count": 4,
   "id": "fe67408a-b957-4fc4-a50e-e374a7768ccb",
   "metadata": {},
   "outputs": [],
   "source": [
    "def fundJed(xl,xd):\n",
    "    return np.array([xl[0]*xd[0],xl[1]*xd[0],xl[2]*xd[0],xl[0]*xd[1],xl[1]*xd[1],xl[2]*xd[1],xl[0]*xd[2],xl[1]*xd[2],xl[2]*xd[2]])"
   ]
  },
  {
   "cell_type": "code",
   "execution_count": 5,
   "id": "dac73f49-5034-47a9-9c60-a01d4e8c85e7",
   "metadata": {},
   "outputs": [],
   "source": [
    "def fundamentalnaMatrica(leve,desne):\n",
    "    a=[]\n",
    "    for x,xp in zip(leve,desne):\n",
    "        jed= fundJed(x,xp)\n",
    "        a.append(jed)\n",
    "    a = np.array(a)\n",
    "    U, D, V = np.linalg.svd(a)\n",
    "    f = V[-1]\n",
    "    f = f.reshape(3,3)\n",
    "    return f"
   ]
  },
  {
   "cell_type": "code",
   "execution_count": 69,
   "id": "1f234819-bbc5-49eb-8e0d-53bb8d607cb1",
   "metadata": {},
   "outputs": [],
   "source": [
    "def skew2v(EC):\n",
    "    return np.array([EC[2][1],EC[0][2],EC[1][0]])"
   ]
  },
  {
   "cell_type": "code",
   "execution_count": 148,
   "id": "8b6b86d8-01e4-4017-8cdc-7650251da7aa",
   "metadata": {},
   "outputs": [],
   "source": [
    "def dekomponuj(e):\n",
    "    q0=np.array([[0,-1,0],[1,0,0],[0,0,1]])\n",
    "    e0=np.array([[0,1,0],[-1,0,0],[0,0,0]])\n",
    "    U,S,V=np.linalg.svd(e)\n",
    "    EC=U@e0@np.transpose(U)\n",
    "    A=U@q0@V #probaj verziju bez transponovanih q0,v ako nesto ne valja\n",
    "    return A,skew2v(EC) #skew2v mozda vrati suprotan znak, stavi mu minus ako ne valja"
   ]
  },
  {
   "cell_type": "code",
   "execution_count": 163,
   "id": "9a7df840-fe89-4168-835a-f8ab3e3ea469",
   "metadata": {},
   "outputs": [],
   "source": [
    "def kamera1(e):\n",
    "    A,C=dekomponuj(e)\n",
    "    C=K1 @ -np.transpose(A) @ C\n",
    "    A=K1 @ np.transpose(A)\n",
    "    A1=np.concatenate((np.transpose(A),[C]),axis=0) #append A.T,C\n",
    "    return np.transpose(A1)"
   ]
  },
  {
   "cell_type": "code",
   "execution_count": 164,
   "id": "e3e8b238-5847-4906-90ee-b4850684a44f",
   "metadata": {},
   "outputs": [],
   "source": [
    "def triangulisi(T1,T2,pt1,pt2):\n",
    "    a=np.array([pt1[1]*T1[2,:]-pt1[2]*T1[1,:],\n",
    "                -pt1[0]*T1[2,:]+pt1[2]*T1[0,:],\n",
    "                pt2[1]*T2[2,:]-pt2[2]*T2[1,:],\n",
    "                -pt2[0]*T2[2,:]+pt2[2]*T2[0,:]]) #ima na slajdovima\n",
    "    U,S,V=np.linalg.svd(a)\n",
    "    pt=V[3] # valjda moze -1\n",
    "    pt=(1/pt[3])*pt\n",
    "    pt=np.where(pt==0,0.0,pt)\n",
    "    return np.array(pt)"
   ]
  },
  {
   "cell_type": "code",
   "execution_count": 161,
   "id": "aa101d42-9ed7-4d1d-a503-6186f85c9470",
   "metadata": {},
   "outputs": [],
   "source": [
    "def recPts(c1,c2,pts1,pts2):\n",
    "    a=[]\n",
    "    for x,xp in zip(pts1,pts2):\n",
    "        X=triangulisi(c1,c2,x,xp)\n",
    "        X=np.delete(X,-1)\n",
    "        a.append(X)\n",
    "    a = np.array(a)\n",
    "    return a"
   ]
  },
  {
   "cell_type": "code",
   "execution_count": 162,
   "id": "25dde0dd-b3bc-4ee7-b404-8b9a9a9da4ff",
   "metadata": {},
   "outputs": [
    {
     "ename": "ValueError",
     "evalue": "all the input array dimensions except for the concatenation axis must match exactly, but along dimension 0, the array at index 0 has size 3 and the array at index 1 has size 1",
     "output_type": "error",
     "traceback": [
      "\u001b[0;31m---------------------------------------------------------------------------\u001b[0m",
      "\u001b[0;31mValueError\u001b[0m                                Traceback (most recent call last)",
      "Cell \u001b[0;32mIn[162], line 49\u001b[0m\n\u001b[1;32m     47\u001b[0m \u001b[38;5;66;03m#osnovna matrica\u001b[39;00m\n\u001b[1;32m     48\u001b[0m e\u001b[38;5;241m=\u001b[39mnp\u001b[38;5;241m.\u001b[39mtranspose(K1)\u001b[38;5;129m@f\u001b[39m\u001b[38;5;129m@K1\u001b[39m\n\u001b[0;32m---> 49\u001b[0m pts3D\u001b[38;5;241m=\u001b[39mrecPts(\u001b[43mkamera1\u001b[49m\u001b[43m(\u001b[49m\u001b[43me\u001b[49m\u001b[43m)\u001b[49m,kam2,allL,allD)\n\u001b[1;32m     50\u001b[0m pts3D\n",
      "Cell \u001b[0;32mIn[159], line 5\u001b[0m, in \u001b[0;36mkamera1\u001b[0;34m(e)\u001b[0m\n\u001b[1;32m      3\u001b[0m C\u001b[38;5;241m=\u001b[39mK1 \u001b[38;5;241m@\u001b[39m \u001b[38;5;241m-\u001b[39mnp\u001b[38;5;241m.\u001b[39mtranspose(A) \u001b[38;5;241m@\u001b[39m C\n\u001b[1;32m      4\u001b[0m A\u001b[38;5;241m=\u001b[39mK1 \u001b[38;5;241m@\u001b[39m np\u001b[38;5;241m.\u001b[39mtranspose(A)\n\u001b[0;32m----> 5\u001b[0m A1\u001b[38;5;241m=\u001b[39m\u001b[43mnp\u001b[49m\u001b[38;5;241;43m.\u001b[39;49m\u001b[43mconcatenate\u001b[49m\u001b[43m(\u001b[49m\u001b[43m(\u001b[49m\u001b[43mnp\u001b[49m\u001b[38;5;241;43m.\u001b[39;49m\u001b[43mtranspose\u001b[49m\u001b[43m(\u001b[49m\u001b[43mA\u001b[49m\u001b[43m)\u001b[49m\u001b[43m,\u001b[49m\u001b[43m[\u001b[49m\u001b[43mC\u001b[49m\u001b[43m]\u001b[49m\u001b[43m)\u001b[49m\u001b[43m,\u001b[49m\u001b[43maxis\u001b[49m\u001b[38;5;241;43m=\u001b[39;49m\u001b[38;5;241;43m1\u001b[39;49m\u001b[43m)\u001b[49m \u001b[38;5;66;03m#append A.T,C\u001b[39;00m\n\u001b[1;32m      6\u001b[0m \u001b[38;5;28;01mreturn\u001b[39;00m np\u001b[38;5;241m.\u001b[39mtranspose(A1)\n",
      "File \u001b[0;32m<__array_function__ internals>:200\u001b[0m, in \u001b[0;36mconcatenate\u001b[0;34m(*args, **kwargs)\u001b[0m\n",
      "\u001b[0;31mValueError\u001b[0m: all the input array dimensions except for the concatenation axis must match exactly, but along dimension 0, the array at index 0 has size 3 and the array at index 1 has size 1"
     ]
    }
   ],
   "source": [
    "K1=np.array([[1300,0,800],[0,1300,600],[0,0,1]])\n",
    "kam2=np.array([[1300,0,800,0],\n",
    "             [0,1600,600,0],\n",
    "             [0,0,1,0]])\n",
    "tacke1=np.array([[383, 264, 1],\n",
    "                [727, 351, 1],\n",
    "                [551, 651, 1],\n",
    "                [147, 524, 1],\n",
    "                [1228, 971, 1],\n",
    "                [1556, 757, 1],\n",
    "                [1143, 587, 1], \n",
    "                [1456, 508, 1]])\n",
    "tacke2=np.array([[489, 183, 1],\n",
    "                [731, 307, 1],\n",
    "                [467, 514, 1],\n",
    "                [214, 347, 1],\n",
    "                [1050, 994, 1],\n",
    "                [1491, 903, 1],\n",
    "                [1127, 630, 1],\n",
    "                [1343, 589, 1]])\n",
    "all1p=np.array([[454, 507, 1],\n",
    "                [740, 596, 1],\n",
    "                [601, 870, 1],\n",
    "                [283, 761, 1],\n",
    "                [427, 371, 1],\n",
    "                [825, 403, 1],\n",
    "                [1162, 410,1],\n",
    "                [1167, 251,1],\n",
    "                [828, 247,1],\n",
    "                [1102, 323,1],\n",
    "                [919, 322,1]])\n",
    "all2p=np.array([[537, 420, 1],\n",
    "                [744, 552, 1],\n",
    "                [530, 746, 1],\n",
    "                [317, 857, 1],\n",
    "                [479, 274, 1],\n",
    "                [897, 404, 1],\n",
    "                [1223, 482,1],\n",
    "                [1263, 322,1],\n",
    "                [933, 257,1],\n",
    "                [1167, 377,1],\n",
    "                [988, 337,1]])\n",
    "allL=np.concatenate((tacke1,all1p),axis=0)\n",
    "allD=np.concatenate((tacke2,all2p),axis=0)\n",
    "#fundamentalna matrica\n",
    "f=fundamentalnaMatrica(piksel(tacke1),piksel(tacke2))\n",
    "#osnovna matrica\n",
    "e=np.transpose(K1)@f@K1\n",
    "pts3D=recPts(kamera1(e),kam2,allL,allD)\n",
    "pts3D"
   ]
  },
  {
   "cell_type": "code",
   "execution_count": 158,
   "id": "8c22acb2",
   "metadata": {},
   "outputs": [
    {
     "data": {
      "application/vnd.plotly.v1+json": {
       "config": {
        "plotlyServerURL": "https://plot.ly"
       },
       "data": [
        {
         "type": "scatter3d",
         "x": [
          -0.6312463416048323,
          -0.19541921734423087
         ],
         "y": [
          -0.6716120618538933,
          -0.670487333403398
         ],
         "z": [
          2.6651174797756845,
          3.467785841844626
         ]
        },
        {
         "type": "scatter3d",
         "x": [
          -0.6312463416048323,
          -1.195896579187682
         ],
         "y": [
          -0.6716120618538933,
          -0.2850638252325376
         ],
         "z": [
          2.6651174797756845,
          2.7936992323525214
         ]
        },
        {
         "type": "scatter3d",
         "x": [
          -0.6312463416048323,
          4.695776224092545
         ],
         "y": [
          -0.6716120618538933,
          6.0474918122146635
         ],
         "z": [
          2.6651174797756845,
          26.253463854920877
         ]
        },
        {
         "type": "scatter3d",
         "x": [
          -1.0923175475204099,
          -1.195896579187682
         ],
         "y": [
          -0.06270114482114565,
          -0.2850638252325376
         ],
         "z": [
          4.646243958790412,
          2.7936992323525214
         ]
        },
        {
         "type": "scatter3d",
         "x": [
          -1.0923175475204099,
          -0.19541921734423087
         ],
         "y": [
          -0.06270114482114565,
          -0.670487333403398
         ],
         "z": [
          4.646243958790412,
          3.467785841844626
         ]
        },
        {
         "type": "scatter3d",
         "x": [
          -1.0923175475204099,
          0.9495267820407831
         ],
         "y": [
          -0.06270114482114565,
          -0.12225720088871467
         ],
         "z": [
          4.646243958790412,
          4.108588240108833
         ]
        },
        {
         "type": "scatter3d",
         "x": [
          2.4597442590413863,
          0.9495267820407831
         ],
         "y": [
          0.4912632733213477,
          -0.12225720088871467
         ],
         "z": [
          5.0395574617908,
          4.108588240108833
         ]
        },
        {
         "type": "scatter3d",
         "x": [
          2.4597442590413863,
          4.695776224092545
         ],
         "y": [
          0.4912632733213477,
          6.0474918122146635
         ],
         "z": [
          5.0395574617908,
          26.253463854920877
         ]
        },
        {
         "type": "scatter3d",
         "x": [
          2.4597442590413863,
          -0.19541921734423087
         ],
         "y": [
          0.4912632733213477,
          -0.670487333403398
         ],
         "z": [
          5.0395574617908,
          3.467785841844626
         ]
        },
        {
         "type": "scatter3d",
         "x": [
          1.7592255416964242,
          0.9495267820407831
         ],
         "y": [
          -0.3553292226909848,
          -0.12225720088871467
         ],
         "z": [
          4.443766403769506,
          4.108588240108833
         ]
        },
        {
         "type": "scatter3d",
         "x": [
          1.7592255416964242,
          -1.195896579187682
         ],
         "y": [
          -0.3553292226909848,
          -0.2850638252325376
         ],
         "z": [
          4.443766403769506,
          2.7936992323525214
         ]
        },
        {
         "type": "scatter3d",
         "x": [
          1.7592255416964242,
          4.695776224092545
         ],
         "y": [
          -0.3553292226909848,
          6.0474918122146635
         ],
         "z": [
          4.443766403769506,
          26.253463854920877
         ]
        },
        {
         "type": "scatter3d",
         "x": [
          -0.17642877130156315,
          -0.8887445399765922
         ],
         "y": [
          -0.13010659641383046,
          0.6692827349237989
         ],
         "z": [
          3.967642984959795,
          4.979572473419191
         ]
        },
        {
         "type": "scatter3d",
         "x": [
          -0.17642877130156315,
          -0.7329531311467994
         ],
         "y": [
          -0.13010659641383046,
          -0.5686532020273959
         ],
         "z": [
          3.967642984959795,
          3.038650983656239
         ]
        },
        {
         "type": "scatter3d",
         "x": [
          -0.17642877130156315,
          0.8592024367975287
         ],
         "y": [
          -0.13010659641383046,
          -0.3907834589051804
         ],
         "z": [
          3.967642984959795,
          2.7652451628531987
         ]
        },
        {
         "type": "scatter3d",
         "x": [
          -1.4824838516773329,
          -0.7329531311467994
         ],
         "y": [
          0.6565422468352368,
          -0.5686532020273959
         ],
         "z": [
          4.0095685415751685,
          3.038650983656239
         ]
        },
        {
         "type": "scatter3d",
         "x": [
          -1.4824838516773329,
          -0.8887445399765922
         ],
         "y": [
          0.6565422468352368,
          0.6692827349237989
         ],
         "z": [
          4.0095685415751685,
          4.979572473419191
         ]
        },
        {
         "type": "scatter3d",
         "x": [
          -1.4824838516773329,
          0.1974728006713357
         ],
         "y": [
          0.6565422468352368,
          -0.4625834877641555
         ],
         "z": [
          4.0095685415751685,
          3.036289895110509
         ]
        },
        {
         "type": "scatter3d",
         "x": [
          0.1974728006713357,
          0.8592024367975287
         ],
         "y": [
          -0.4625834877641555,
          -0.3907834589051804
         ],
         "z": [
          3.036289895110509,
          2.7652451628531987
         ]
        },
        {
         "type": "scatter3d",
         "x": [
          -0.8887445399765922,
          0.1974728006713357
         ],
         "y": [
          0.6692827349237989,
          -0.4625834877641555
         ],
         "z": [
          4.979572473419191,
          3.036289895110509
         ]
        },
        {
         "type": "scatter3d",
         "x": [
          0.8592024367975287,
          -0.7329531311467994
         ],
         "y": [
          -0.3907834589051804,
          -0.5686532020273959
         ],
         "z": [
          2.7652451628531987,
          3.038650983656239
         ]
        },
        {
         "type": "scatter3d",
         "x": [
          0.7951205499036679,
          0.24677334996210726
         ],
         "y": [
          -0.554605654129342,
          -0.6529957126954371
         ],
         "z": [
          2.271359957978487,
          2.5979829992809846
         ]
        },
        {
         "type": "scatter3d",
         "x": [
          0.7951205499036679,
          0.7220766230226897
         ],
         "y": [
          -0.554605654129342,
          -0.5310956813460584
         ],
         "z": [
          2.271359957978487,
          2.658382452848999
         ]
        },
        {
         "type": "scatter3d",
         "x": [
          0.7951205499036679,
          0.3841811126259403
         ],
         "y": [
          -0.554605654129342,
          -0.5821371207788804
         ],
         "z": [
          2.271359957978487,
          2.8456853327091363
         ]
        },
        {
         "type": "scatter3d",
         "x": [
          0.24677334996210726,
          0.7220766230226897
         ],
         "y": [
          -0.6529957126954371,
          -0.5310956813460584
         ],
         "z": [
          2.5979829992809846,
          2.658382452848999
         ]
        },
        {
         "type": "scatter3d",
         "x": [
          0.24677334996210726,
          0.3841811126259403
         ],
         "y": [
          -0.6529957126954371,
          -0.5821371207788804
         ],
         "z": [
          2.5979829992809846,
          2.8456853327091363
         ]
        },
        {
         "type": "scatter3d",
         "x": [
          0.7220766230226897,
          0.3841811126259403
         ],
         "y": [
          -0.5310956813460584,
          -0.5821371207788804
         ],
         "z": [
          2.658382452848999,
          2.8456853327091363
         ]
        }
       ],
       "layout": {
        "showlegend": false,
        "template": {
         "data": {
          "bar": [
           {
            "error_x": {
             "color": "#2a3f5f"
            },
            "error_y": {
             "color": "#2a3f5f"
            },
            "marker": {
             "line": {
              "color": "#E5ECF6",
              "width": 0.5
             },
             "pattern": {
              "fillmode": "overlay",
              "size": 10,
              "solidity": 0.2
             }
            },
            "type": "bar"
           }
          ],
          "barpolar": [
           {
            "marker": {
             "line": {
              "color": "#E5ECF6",
              "width": 0.5
             },
             "pattern": {
              "fillmode": "overlay",
              "size": 10,
              "solidity": 0.2
             }
            },
            "type": "barpolar"
           }
          ],
          "carpet": [
           {
            "aaxis": {
             "endlinecolor": "#2a3f5f",
             "gridcolor": "white",
             "linecolor": "white",
             "minorgridcolor": "white",
             "startlinecolor": "#2a3f5f"
            },
            "baxis": {
             "endlinecolor": "#2a3f5f",
             "gridcolor": "white",
             "linecolor": "white",
             "minorgridcolor": "white",
             "startlinecolor": "#2a3f5f"
            },
            "type": "carpet"
           }
          ],
          "choropleth": [
           {
            "colorbar": {
             "outlinewidth": 0,
             "ticks": ""
            },
            "type": "choropleth"
           }
          ],
          "contour": [
           {
            "colorbar": {
             "outlinewidth": 0,
             "ticks": ""
            },
            "colorscale": [
             [
              0,
              "#0d0887"
             ],
             [
              0.1111111111111111,
              "#46039f"
             ],
             [
              0.2222222222222222,
              "#7201a8"
             ],
             [
              0.3333333333333333,
              "#9c179e"
             ],
             [
              0.4444444444444444,
              "#bd3786"
             ],
             [
              0.5555555555555556,
              "#d8576b"
             ],
             [
              0.6666666666666666,
              "#ed7953"
             ],
             [
              0.7777777777777778,
              "#fb9f3a"
             ],
             [
              0.8888888888888888,
              "#fdca26"
             ],
             [
              1,
              "#f0f921"
             ]
            ],
            "type": "contour"
           }
          ],
          "contourcarpet": [
           {
            "colorbar": {
             "outlinewidth": 0,
             "ticks": ""
            },
            "type": "contourcarpet"
           }
          ],
          "heatmap": [
           {
            "colorbar": {
             "outlinewidth": 0,
             "ticks": ""
            },
            "colorscale": [
             [
              0,
              "#0d0887"
             ],
             [
              0.1111111111111111,
              "#46039f"
             ],
             [
              0.2222222222222222,
              "#7201a8"
             ],
             [
              0.3333333333333333,
              "#9c179e"
             ],
             [
              0.4444444444444444,
              "#bd3786"
             ],
             [
              0.5555555555555556,
              "#d8576b"
             ],
             [
              0.6666666666666666,
              "#ed7953"
             ],
             [
              0.7777777777777778,
              "#fb9f3a"
             ],
             [
              0.8888888888888888,
              "#fdca26"
             ],
             [
              1,
              "#f0f921"
             ]
            ],
            "type": "heatmap"
           }
          ],
          "heatmapgl": [
           {
            "colorbar": {
             "outlinewidth": 0,
             "ticks": ""
            },
            "colorscale": [
             [
              0,
              "#0d0887"
             ],
             [
              0.1111111111111111,
              "#46039f"
             ],
             [
              0.2222222222222222,
              "#7201a8"
             ],
             [
              0.3333333333333333,
              "#9c179e"
             ],
             [
              0.4444444444444444,
              "#bd3786"
             ],
             [
              0.5555555555555556,
              "#d8576b"
             ],
             [
              0.6666666666666666,
              "#ed7953"
             ],
             [
              0.7777777777777778,
              "#fb9f3a"
             ],
             [
              0.8888888888888888,
              "#fdca26"
             ],
             [
              1,
              "#f0f921"
             ]
            ],
            "type": "heatmapgl"
           }
          ],
          "histogram": [
           {
            "marker": {
             "pattern": {
              "fillmode": "overlay",
              "size": 10,
              "solidity": 0.2
             }
            },
            "type": "histogram"
           }
          ],
          "histogram2d": [
           {
            "colorbar": {
             "outlinewidth": 0,
             "ticks": ""
            },
            "colorscale": [
             [
              0,
              "#0d0887"
             ],
             [
              0.1111111111111111,
              "#46039f"
             ],
             [
              0.2222222222222222,
              "#7201a8"
             ],
             [
              0.3333333333333333,
              "#9c179e"
             ],
             [
              0.4444444444444444,
              "#bd3786"
             ],
             [
              0.5555555555555556,
              "#d8576b"
             ],
             [
              0.6666666666666666,
              "#ed7953"
             ],
             [
              0.7777777777777778,
              "#fb9f3a"
             ],
             [
              0.8888888888888888,
              "#fdca26"
             ],
             [
              1,
              "#f0f921"
             ]
            ],
            "type": "histogram2d"
           }
          ],
          "histogram2dcontour": [
           {
            "colorbar": {
             "outlinewidth": 0,
             "ticks": ""
            },
            "colorscale": [
             [
              0,
              "#0d0887"
             ],
             [
              0.1111111111111111,
              "#46039f"
             ],
             [
              0.2222222222222222,
              "#7201a8"
             ],
             [
              0.3333333333333333,
              "#9c179e"
             ],
             [
              0.4444444444444444,
              "#bd3786"
             ],
             [
              0.5555555555555556,
              "#d8576b"
             ],
             [
              0.6666666666666666,
              "#ed7953"
             ],
             [
              0.7777777777777778,
              "#fb9f3a"
             ],
             [
              0.8888888888888888,
              "#fdca26"
             ],
             [
              1,
              "#f0f921"
             ]
            ],
            "type": "histogram2dcontour"
           }
          ],
          "mesh3d": [
           {
            "colorbar": {
             "outlinewidth": 0,
             "ticks": ""
            },
            "type": "mesh3d"
           }
          ],
          "parcoords": [
           {
            "line": {
             "colorbar": {
              "outlinewidth": 0,
              "ticks": ""
             }
            },
            "type": "parcoords"
           }
          ],
          "pie": [
           {
            "automargin": true,
            "type": "pie"
           }
          ],
          "scatter": [
           {
            "fillpattern": {
             "fillmode": "overlay",
             "size": 10,
             "solidity": 0.2
            },
            "type": "scatter"
           }
          ],
          "scatter3d": [
           {
            "line": {
             "colorbar": {
              "outlinewidth": 0,
              "ticks": ""
             }
            },
            "marker": {
             "colorbar": {
              "outlinewidth": 0,
              "ticks": ""
             }
            },
            "type": "scatter3d"
           }
          ],
          "scattercarpet": [
           {
            "marker": {
             "colorbar": {
              "outlinewidth": 0,
              "ticks": ""
             }
            },
            "type": "scattercarpet"
           }
          ],
          "scattergeo": [
           {
            "marker": {
             "colorbar": {
              "outlinewidth": 0,
              "ticks": ""
             }
            },
            "type": "scattergeo"
           }
          ],
          "scattergl": [
           {
            "marker": {
             "colorbar": {
              "outlinewidth": 0,
              "ticks": ""
             }
            },
            "type": "scattergl"
           }
          ],
          "scattermapbox": [
           {
            "marker": {
             "colorbar": {
              "outlinewidth": 0,
              "ticks": ""
             }
            },
            "type": "scattermapbox"
           }
          ],
          "scatterpolar": [
           {
            "marker": {
             "colorbar": {
              "outlinewidth": 0,
              "ticks": ""
             }
            },
            "type": "scatterpolar"
           }
          ],
          "scatterpolargl": [
           {
            "marker": {
             "colorbar": {
              "outlinewidth": 0,
              "ticks": ""
             }
            },
            "type": "scatterpolargl"
           }
          ],
          "scatterternary": [
           {
            "marker": {
             "colorbar": {
              "outlinewidth": 0,
              "ticks": ""
             }
            },
            "type": "scatterternary"
           }
          ],
          "surface": [
           {
            "colorbar": {
             "outlinewidth": 0,
             "ticks": ""
            },
            "colorscale": [
             [
              0,
              "#0d0887"
             ],
             [
              0.1111111111111111,
              "#46039f"
             ],
             [
              0.2222222222222222,
              "#7201a8"
             ],
             [
              0.3333333333333333,
              "#9c179e"
             ],
             [
              0.4444444444444444,
              "#bd3786"
             ],
             [
              0.5555555555555556,
              "#d8576b"
             ],
             [
              0.6666666666666666,
              "#ed7953"
             ],
             [
              0.7777777777777778,
              "#fb9f3a"
             ],
             [
              0.8888888888888888,
              "#fdca26"
             ],
             [
              1,
              "#f0f921"
             ]
            ],
            "type": "surface"
           }
          ],
          "table": [
           {
            "cells": {
             "fill": {
              "color": "#EBF0F8"
             },
             "line": {
              "color": "white"
             }
            },
            "header": {
             "fill": {
              "color": "#C8D4E3"
             },
             "line": {
              "color": "white"
             }
            },
            "type": "table"
           }
          ]
         },
         "layout": {
          "annotationdefaults": {
           "arrowcolor": "#2a3f5f",
           "arrowhead": 0,
           "arrowwidth": 1
          },
          "autotypenumbers": "strict",
          "coloraxis": {
           "colorbar": {
            "outlinewidth": 0,
            "ticks": ""
           }
          },
          "colorscale": {
           "diverging": [
            [
             0,
             "#8e0152"
            ],
            [
             0.1,
             "#c51b7d"
            ],
            [
             0.2,
             "#de77ae"
            ],
            [
             0.3,
             "#f1b6da"
            ],
            [
             0.4,
             "#fde0ef"
            ],
            [
             0.5,
             "#f7f7f7"
            ],
            [
             0.6,
             "#e6f5d0"
            ],
            [
             0.7,
             "#b8e186"
            ],
            [
             0.8,
             "#7fbc41"
            ],
            [
             0.9,
             "#4d9221"
            ],
            [
             1,
             "#276419"
            ]
           ],
           "sequential": [
            [
             0,
             "#0d0887"
            ],
            [
             0.1111111111111111,
             "#46039f"
            ],
            [
             0.2222222222222222,
             "#7201a8"
            ],
            [
             0.3333333333333333,
             "#9c179e"
            ],
            [
             0.4444444444444444,
             "#bd3786"
            ],
            [
             0.5555555555555556,
             "#d8576b"
            ],
            [
             0.6666666666666666,
             "#ed7953"
            ],
            [
             0.7777777777777778,
             "#fb9f3a"
            ],
            [
             0.8888888888888888,
             "#fdca26"
            ],
            [
             1,
             "#f0f921"
            ]
           ],
           "sequentialminus": [
            [
             0,
             "#0d0887"
            ],
            [
             0.1111111111111111,
             "#46039f"
            ],
            [
             0.2222222222222222,
             "#7201a8"
            ],
            [
             0.3333333333333333,
             "#9c179e"
            ],
            [
             0.4444444444444444,
             "#bd3786"
            ],
            [
             0.5555555555555556,
             "#d8576b"
            ],
            [
             0.6666666666666666,
             "#ed7953"
            ],
            [
             0.7777777777777778,
             "#fb9f3a"
            ],
            [
             0.8888888888888888,
             "#fdca26"
            ],
            [
             1,
             "#f0f921"
            ]
           ]
          },
          "colorway": [
           "#636efa",
           "#EF553B",
           "#00cc96",
           "#ab63fa",
           "#FFA15A",
           "#19d3f3",
           "#FF6692",
           "#B6E880",
           "#FF97FF",
           "#FECB52"
          ],
          "font": {
           "color": "#2a3f5f"
          },
          "geo": {
           "bgcolor": "white",
           "lakecolor": "white",
           "landcolor": "#E5ECF6",
           "showlakes": true,
           "showland": true,
           "subunitcolor": "white"
          },
          "hoverlabel": {
           "align": "left"
          },
          "hovermode": "closest",
          "mapbox": {
           "style": "light"
          },
          "paper_bgcolor": "white",
          "plot_bgcolor": "#E5ECF6",
          "polar": {
           "angularaxis": {
            "gridcolor": "white",
            "linecolor": "white",
            "ticks": ""
           },
           "bgcolor": "#E5ECF6",
           "radialaxis": {
            "gridcolor": "white",
            "linecolor": "white",
            "ticks": ""
           }
          },
          "scene": {
           "xaxis": {
            "backgroundcolor": "#E5ECF6",
            "gridcolor": "white",
            "gridwidth": 2,
            "linecolor": "white",
            "showbackground": true,
            "ticks": "",
            "zerolinecolor": "white"
           },
           "yaxis": {
            "backgroundcolor": "#E5ECF6",
            "gridcolor": "white",
            "gridwidth": 2,
            "linecolor": "white",
            "showbackground": true,
            "ticks": "",
            "zerolinecolor": "white"
           },
           "zaxis": {
            "backgroundcolor": "#E5ECF6",
            "gridcolor": "white",
            "gridwidth": 2,
            "linecolor": "white",
            "showbackground": true,
            "ticks": "",
            "zerolinecolor": "white"
           }
          },
          "shapedefaults": {
           "line": {
            "color": "#2a3f5f"
           }
          },
          "ternary": {
           "aaxis": {
            "gridcolor": "white",
            "linecolor": "white",
            "ticks": ""
           },
           "baxis": {
            "gridcolor": "white",
            "linecolor": "white",
            "ticks": ""
           },
           "bgcolor": "#E5ECF6",
           "caxis": {
            "gridcolor": "white",
            "linecolor": "white",
            "ticks": ""
           }
          },
          "title": {
           "x": 0.05
          },
          "xaxis": {
           "automargin": true,
           "gridcolor": "white",
           "linecolor": "white",
           "ticks": "",
           "title": {
            "standoff": 15
           },
           "zerolinecolor": "white",
           "zerolinewidth": 2
          },
          "yaxis": {
           "automargin": true,
           "gridcolor": "white",
           "linecolor": "white",
           "ticks": "",
           "title": {
            "standoff": 15
           },
           "zerolinecolor": "white",
           "zerolinewidth": 2
          }
         }
        }
       }
      },
      "text/html": [
       "<div>                            <div id=\"5d7483c5-9291-4563-92fe-982ad1f70ea4\" class=\"plotly-graph-div\" style=\"height:525px; width:100%;\"></div>            <script type=\"text/javascript\">                require([\"plotly\"], function(Plotly) {                    window.PLOTLYENV=window.PLOTLYENV || {};                                    if (document.getElementById(\"5d7483c5-9291-4563-92fe-982ad1f70ea4\")) {                    Plotly.newPlot(                        \"5d7483c5-9291-4563-92fe-982ad1f70ea4\",                        [{\"x\":[-0.6312463416048323,-0.19541921734423087],\"y\":[-0.6716120618538933,-0.670487333403398],\"z\":[2.6651174797756845,3.467785841844626],\"type\":\"scatter3d\"},{\"x\":[-0.6312463416048323,-1.195896579187682],\"y\":[-0.6716120618538933,-0.2850638252325376],\"z\":[2.6651174797756845,2.7936992323525214],\"type\":\"scatter3d\"},{\"x\":[-0.6312463416048323,4.695776224092545],\"y\":[-0.6716120618538933,6.0474918122146635],\"z\":[2.6651174797756845,26.253463854920877],\"type\":\"scatter3d\"},{\"x\":[-1.0923175475204099,-1.195896579187682],\"y\":[-0.06270114482114565,-0.2850638252325376],\"z\":[4.646243958790412,2.7936992323525214],\"type\":\"scatter3d\"},{\"x\":[-1.0923175475204099,-0.19541921734423087],\"y\":[-0.06270114482114565,-0.670487333403398],\"z\":[4.646243958790412,3.467785841844626],\"type\":\"scatter3d\"},{\"x\":[-1.0923175475204099,0.9495267820407831],\"y\":[-0.06270114482114565,-0.12225720088871467],\"z\":[4.646243958790412,4.108588240108833],\"type\":\"scatter3d\"},{\"x\":[2.4597442590413863,0.9495267820407831],\"y\":[0.4912632733213477,-0.12225720088871467],\"z\":[5.0395574617908,4.108588240108833],\"type\":\"scatter3d\"},{\"x\":[2.4597442590413863,4.695776224092545],\"y\":[0.4912632733213477,6.0474918122146635],\"z\":[5.0395574617908,26.253463854920877],\"type\":\"scatter3d\"},{\"x\":[2.4597442590413863,-0.19541921734423087],\"y\":[0.4912632733213477,-0.670487333403398],\"z\":[5.0395574617908,3.467785841844626],\"type\":\"scatter3d\"},{\"x\":[1.7592255416964242,0.9495267820407831],\"y\":[-0.3553292226909848,-0.12225720088871467],\"z\":[4.443766403769506,4.108588240108833],\"type\":\"scatter3d\"},{\"x\":[1.7592255416964242,-1.195896579187682],\"y\":[-0.3553292226909848,-0.2850638252325376],\"z\":[4.443766403769506,2.7936992323525214],\"type\":\"scatter3d\"},{\"x\":[1.7592255416964242,4.695776224092545],\"y\":[-0.3553292226909848,6.0474918122146635],\"z\":[4.443766403769506,26.253463854920877],\"type\":\"scatter3d\"},{\"x\":[-0.17642877130156315,-0.8887445399765922],\"y\":[-0.13010659641383046,0.6692827349237989],\"z\":[3.967642984959795,4.979572473419191],\"type\":\"scatter3d\"},{\"x\":[-0.17642877130156315,-0.7329531311467994],\"y\":[-0.13010659641383046,-0.5686532020273959],\"z\":[3.967642984959795,3.038650983656239],\"type\":\"scatter3d\"},{\"x\":[-0.17642877130156315,0.8592024367975287],\"y\":[-0.13010659641383046,-0.3907834589051804],\"z\":[3.967642984959795,2.7652451628531987],\"type\":\"scatter3d\"},{\"x\":[-1.4824838516773329,-0.7329531311467994],\"y\":[0.6565422468352368,-0.5686532020273959],\"z\":[4.0095685415751685,3.038650983656239],\"type\":\"scatter3d\"},{\"x\":[-1.4824838516773329,-0.8887445399765922],\"y\":[0.6565422468352368,0.6692827349237989],\"z\":[4.0095685415751685,4.979572473419191],\"type\":\"scatter3d\"},{\"x\":[-1.4824838516773329,0.1974728006713357],\"y\":[0.6565422468352368,-0.4625834877641555],\"z\":[4.0095685415751685,3.036289895110509],\"type\":\"scatter3d\"},{\"x\":[0.1974728006713357,0.8592024367975287],\"y\":[-0.4625834877641555,-0.3907834589051804],\"z\":[3.036289895110509,2.7652451628531987],\"type\":\"scatter3d\"},{\"x\":[-0.8887445399765922,0.1974728006713357],\"y\":[0.6692827349237989,-0.4625834877641555],\"z\":[4.979572473419191,3.036289895110509],\"type\":\"scatter3d\"},{\"x\":[0.8592024367975287,-0.7329531311467994],\"y\":[-0.3907834589051804,-0.5686532020273959],\"z\":[2.7652451628531987,3.038650983656239],\"type\":\"scatter3d\"},{\"x\":[0.7951205499036679,0.24677334996210726],\"y\":[-0.554605654129342,-0.6529957126954371],\"z\":[2.271359957978487,2.5979829992809846],\"type\":\"scatter3d\"},{\"x\":[0.7951205499036679,0.7220766230226897],\"y\":[-0.554605654129342,-0.5310956813460584],\"z\":[2.271359957978487,2.658382452848999],\"type\":\"scatter3d\"},{\"x\":[0.7951205499036679,0.3841811126259403],\"y\":[-0.554605654129342,-0.5821371207788804],\"z\":[2.271359957978487,2.8456853327091363],\"type\":\"scatter3d\"},{\"x\":[0.24677334996210726,0.7220766230226897],\"y\":[-0.6529957126954371,-0.5310956813460584],\"z\":[2.5979829992809846,2.658382452848999],\"type\":\"scatter3d\"},{\"x\":[0.24677334996210726,0.3841811126259403],\"y\":[-0.6529957126954371,-0.5821371207788804],\"z\":[2.5979829992809846,2.8456853327091363],\"type\":\"scatter3d\"},{\"x\":[0.7220766230226897,0.3841811126259403],\"y\":[-0.5310956813460584,-0.5821371207788804],\"z\":[2.658382452848999,2.8456853327091363],\"type\":\"scatter3d\"}],                        {\"template\":{\"data\":{\"histogram2dcontour\":[{\"type\":\"histogram2dcontour\",\"colorbar\":{\"outlinewidth\":0,\"ticks\":\"\"},\"colorscale\":[[0.0,\"#0d0887\"],[0.1111111111111111,\"#46039f\"],[0.2222222222222222,\"#7201a8\"],[0.3333333333333333,\"#9c179e\"],[0.4444444444444444,\"#bd3786\"],[0.5555555555555556,\"#d8576b\"],[0.6666666666666666,\"#ed7953\"],[0.7777777777777778,\"#fb9f3a\"],[0.8888888888888888,\"#fdca26\"],[1.0,\"#f0f921\"]]}],\"choropleth\":[{\"type\":\"choropleth\",\"colorbar\":{\"outlinewidth\":0,\"ticks\":\"\"}}],\"histogram2d\":[{\"type\":\"histogram2d\",\"colorbar\":{\"outlinewidth\":0,\"ticks\":\"\"},\"colorscale\":[[0.0,\"#0d0887\"],[0.1111111111111111,\"#46039f\"],[0.2222222222222222,\"#7201a8\"],[0.3333333333333333,\"#9c179e\"],[0.4444444444444444,\"#bd3786\"],[0.5555555555555556,\"#d8576b\"],[0.6666666666666666,\"#ed7953\"],[0.7777777777777778,\"#fb9f3a\"],[0.8888888888888888,\"#fdca26\"],[1.0,\"#f0f921\"]]}],\"heatmap\":[{\"type\":\"heatmap\",\"colorbar\":{\"outlinewidth\":0,\"ticks\":\"\"},\"colorscale\":[[0.0,\"#0d0887\"],[0.1111111111111111,\"#46039f\"],[0.2222222222222222,\"#7201a8\"],[0.3333333333333333,\"#9c179e\"],[0.4444444444444444,\"#bd3786\"],[0.5555555555555556,\"#d8576b\"],[0.6666666666666666,\"#ed7953\"],[0.7777777777777778,\"#fb9f3a\"],[0.8888888888888888,\"#fdca26\"],[1.0,\"#f0f921\"]]}],\"heatmapgl\":[{\"type\":\"heatmapgl\",\"colorbar\":{\"outlinewidth\":0,\"ticks\":\"\"},\"colorscale\":[[0.0,\"#0d0887\"],[0.1111111111111111,\"#46039f\"],[0.2222222222222222,\"#7201a8\"],[0.3333333333333333,\"#9c179e\"],[0.4444444444444444,\"#bd3786\"],[0.5555555555555556,\"#d8576b\"],[0.6666666666666666,\"#ed7953\"],[0.7777777777777778,\"#fb9f3a\"],[0.8888888888888888,\"#fdca26\"],[1.0,\"#f0f921\"]]}],\"contourcarpet\":[{\"type\":\"contourcarpet\",\"colorbar\":{\"outlinewidth\":0,\"ticks\":\"\"}}],\"contour\":[{\"type\":\"contour\",\"colorbar\":{\"outlinewidth\":0,\"ticks\":\"\"},\"colorscale\":[[0.0,\"#0d0887\"],[0.1111111111111111,\"#46039f\"],[0.2222222222222222,\"#7201a8\"],[0.3333333333333333,\"#9c179e\"],[0.4444444444444444,\"#bd3786\"],[0.5555555555555556,\"#d8576b\"],[0.6666666666666666,\"#ed7953\"],[0.7777777777777778,\"#fb9f3a\"],[0.8888888888888888,\"#fdca26\"],[1.0,\"#f0f921\"]]}],\"surface\":[{\"type\":\"surface\",\"colorbar\":{\"outlinewidth\":0,\"ticks\":\"\"},\"colorscale\":[[0.0,\"#0d0887\"],[0.1111111111111111,\"#46039f\"],[0.2222222222222222,\"#7201a8\"],[0.3333333333333333,\"#9c179e\"],[0.4444444444444444,\"#bd3786\"],[0.5555555555555556,\"#d8576b\"],[0.6666666666666666,\"#ed7953\"],[0.7777777777777778,\"#fb9f3a\"],[0.8888888888888888,\"#fdca26\"],[1.0,\"#f0f921\"]]}],\"mesh3d\":[{\"type\":\"mesh3d\",\"colorbar\":{\"outlinewidth\":0,\"ticks\":\"\"}}],\"scatter\":[{\"fillpattern\":{\"fillmode\":\"overlay\",\"size\":10,\"solidity\":0.2},\"type\":\"scatter\"}],\"parcoords\":[{\"type\":\"parcoords\",\"line\":{\"colorbar\":{\"outlinewidth\":0,\"ticks\":\"\"}}}],\"scatterpolargl\":[{\"type\":\"scatterpolargl\",\"marker\":{\"colorbar\":{\"outlinewidth\":0,\"ticks\":\"\"}}}],\"bar\":[{\"error_x\":{\"color\":\"#2a3f5f\"},\"error_y\":{\"color\":\"#2a3f5f\"},\"marker\":{\"line\":{\"color\":\"#E5ECF6\",\"width\":0.5},\"pattern\":{\"fillmode\":\"overlay\",\"size\":10,\"solidity\":0.2}},\"type\":\"bar\"}],\"scattergeo\":[{\"type\":\"scattergeo\",\"marker\":{\"colorbar\":{\"outlinewidth\":0,\"ticks\":\"\"}}}],\"scatterpolar\":[{\"type\":\"scatterpolar\",\"marker\":{\"colorbar\":{\"outlinewidth\":0,\"ticks\":\"\"}}}],\"histogram\":[{\"marker\":{\"pattern\":{\"fillmode\":\"overlay\",\"size\":10,\"solidity\":0.2}},\"type\":\"histogram\"}],\"scattergl\":[{\"type\":\"scattergl\",\"marker\":{\"colorbar\":{\"outlinewidth\":0,\"ticks\":\"\"}}}],\"scatter3d\":[{\"type\":\"scatter3d\",\"line\":{\"colorbar\":{\"outlinewidth\":0,\"ticks\":\"\"}},\"marker\":{\"colorbar\":{\"outlinewidth\":0,\"ticks\":\"\"}}}],\"scattermapbox\":[{\"type\":\"scattermapbox\",\"marker\":{\"colorbar\":{\"outlinewidth\":0,\"ticks\":\"\"}}}],\"scatterternary\":[{\"type\":\"scatterternary\",\"marker\":{\"colorbar\":{\"outlinewidth\":0,\"ticks\":\"\"}}}],\"scattercarpet\":[{\"type\":\"scattercarpet\",\"marker\":{\"colorbar\":{\"outlinewidth\":0,\"ticks\":\"\"}}}],\"carpet\":[{\"aaxis\":{\"endlinecolor\":\"#2a3f5f\",\"gridcolor\":\"white\",\"linecolor\":\"white\",\"minorgridcolor\":\"white\",\"startlinecolor\":\"#2a3f5f\"},\"baxis\":{\"endlinecolor\":\"#2a3f5f\",\"gridcolor\":\"white\",\"linecolor\":\"white\",\"minorgridcolor\":\"white\",\"startlinecolor\":\"#2a3f5f\"},\"type\":\"carpet\"}],\"table\":[{\"cells\":{\"fill\":{\"color\":\"#EBF0F8\"},\"line\":{\"color\":\"white\"}},\"header\":{\"fill\":{\"color\":\"#C8D4E3\"},\"line\":{\"color\":\"white\"}},\"type\":\"table\"}],\"barpolar\":[{\"marker\":{\"line\":{\"color\":\"#E5ECF6\",\"width\":0.5},\"pattern\":{\"fillmode\":\"overlay\",\"size\":10,\"solidity\":0.2}},\"type\":\"barpolar\"}],\"pie\":[{\"automargin\":true,\"type\":\"pie\"}]},\"layout\":{\"autotypenumbers\":\"strict\",\"colorway\":[\"#636efa\",\"#EF553B\",\"#00cc96\",\"#ab63fa\",\"#FFA15A\",\"#19d3f3\",\"#FF6692\",\"#B6E880\",\"#FF97FF\",\"#FECB52\"],\"font\":{\"color\":\"#2a3f5f\"},\"hovermode\":\"closest\",\"hoverlabel\":{\"align\":\"left\"},\"paper_bgcolor\":\"white\",\"plot_bgcolor\":\"#E5ECF6\",\"polar\":{\"bgcolor\":\"#E5ECF6\",\"angularaxis\":{\"gridcolor\":\"white\",\"linecolor\":\"white\",\"ticks\":\"\"},\"radialaxis\":{\"gridcolor\":\"white\",\"linecolor\":\"white\",\"ticks\":\"\"}},\"ternary\":{\"bgcolor\":\"#E5ECF6\",\"aaxis\":{\"gridcolor\":\"white\",\"linecolor\":\"white\",\"ticks\":\"\"},\"baxis\":{\"gridcolor\":\"white\",\"linecolor\":\"white\",\"ticks\":\"\"},\"caxis\":{\"gridcolor\":\"white\",\"linecolor\":\"white\",\"ticks\":\"\"}},\"coloraxis\":{\"colorbar\":{\"outlinewidth\":0,\"ticks\":\"\"}},\"colorscale\":{\"sequential\":[[0.0,\"#0d0887\"],[0.1111111111111111,\"#46039f\"],[0.2222222222222222,\"#7201a8\"],[0.3333333333333333,\"#9c179e\"],[0.4444444444444444,\"#bd3786\"],[0.5555555555555556,\"#d8576b\"],[0.6666666666666666,\"#ed7953\"],[0.7777777777777778,\"#fb9f3a\"],[0.8888888888888888,\"#fdca26\"],[1.0,\"#f0f921\"]],\"sequentialminus\":[[0.0,\"#0d0887\"],[0.1111111111111111,\"#46039f\"],[0.2222222222222222,\"#7201a8\"],[0.3333333333333333,\"#9c179e\"],[0.4444444444444444,\"#bd3786\"],[0.5555555555555556,\"#d8576b\"],[0.6666666666666666,\"#ed7953\"],[0.7777777777777778,\"#fb9f3a\"],[0.8888888888888888,\"#fdca26\"],[1.0,\"#f0f921\"]],\"diverging\":[[0,\"#8e0152\"],[0.1,\"#c51b7d\"],[0.2,\"#de77ae\"],[0.3,\"#f1b6da\"],[0.4,\"#fde0ef\"],[0.5,\"#f7f7f7\"],[0.6,\"#e6f5d0\"],[0.7,\"#b8e186\"],[0.8,\"#7fbc41\"],[0.9,\"#4d9221\"],[1,\"#276419\"]]},\"xaxis\":{\"gridcolor\":\"white\",\"linecolor\":\"white\",\"ticks\":\"\",\"title\":{\"standoff\":15},\"zerolinecolor\":\"white\",\"automargin\":true,\"zerolinewidth\":2},\"yaxis\":{\"gridcolor\":\"white\",\"linecolor\":\"white\",\"ticks\":\"\",\"title\":{\"standoff\":15},\"zerolinecolor\":\"white\",\"automargin\":true,\"zerolinewidth\":2},\"scene\":{\"xaxis\":{\"backgroundcolor\":\"#E5ECF6\",\"gridcolor\":\"white\",\"linecolor\":\"white\",\"showbackground\":true,\"ticks\":\"\",\"zerolinecolor\":\"white\",\"gridwidth\":2},\"yaxis\":{\"backgroundcolor\":\"#E5ECF6\",\"gridcolor\":\"white\",\"linecolor\":\"white\",\"showbackground\":true,\"ticks\":\"\",\"zerolinecolor\":\"white\",\"gridwidth\":2},\"zaxis\":{\"backgroundcolor\":\"#E5ECF6\",\"gridcolor\":\"white\",\"linecolor\":\"white\",\"showbackground\":true,\"ticks\":\"\",\"zerolinecolor\":\"white\",\"gridwidth\":2}},\"shapedefaults\":{\"line\":{\"color\":\"#2a3f5f\"}},\"annotationdefaults\":{\"arrowcolor\":\"#2a3f5f\",\"arrowhead\":0,\"arrowwidth\":1},\"geo\":{\"bgcolor\":\"white\",\"landcolor\":\"#E5ECF6\",\"subunitcolor\":\"white\",\"showland\":true,\"showlakes\":true,\"lakecolor\":\"white\"},\"title\":{\"x\":0.05},\"mapbox\":{\"style\":\"light\"}}},\"showlegend\":false},                        {\"responsive\": true}                    ).then(function(){\n",
       "                            \n",
       "var gd = document.getElementById('5d7483c5-9291-4563-92fe-982ad1f70ea4');\n",
       "var x = new MutationObserver(function (mutations, observer) {{\n",
       "        var display = window.getComputedStyle(gd).display;\n",
       "        if (!display || display === 'none') {{\n",
       "            console.log([gd, 'removed!']);\n",
       "            Plotly.purge(gd);\n",
       "            observer.disconnect();\n",
       "        }}\n",
       "}});\n",
       "\n",
       "// Listen for the removal of the full notebook cells\n",
       "var notebookContainer = gd.closest('#notebook-container');\n",
       "if (notebookContainer) {{\n",
       "    x.observe(notebookContainer, {childList: true});\n",
       "}}\n",
       "\n",
       "// Listen for the clearing of the current output cell\n",
       "var outputEl = gd.closest('.output');\n",
       "if (outputEl) {{\n",
       "    x.observe(outputEl, {childList: true});\n",
       "}}\n",
       "\n",
       "                        })                };                });            </script>        </div>"
      ]
     },
     "metadata": {},
     "output_type": "display_data"
    }
   ],
   "source": [
    "import plotly.graph_objects as go\n",
    "import plotly.express as px\n",
    "\n",
    "# U ovom slucaju crtamo jednostavnu kocku. Vi cete koristiti rekonstruisana temena\n",
    "temenaKocke = pts3D #np.array([[0,0, 3], [0, 3,3], [3,3,3],[3, 0,3],[0,0,0], [0, 3,0], [3, 3,0],[3,0,0]] )\n",
    "# Ovo su ivice kocke zadate indeksima temena\n",
    "ivice = [[0, 1], [0, 3], [0, 4], [2, 3], [2, 1], [2, 6], [5, 6], [5, 4], [5, 1], [7, 6],\n",
    "[7, 3], [7, 4], [9, 10], [9, 12], [9, 14], [11, 12], [11, 10], [11, 13], [13, 14],\n",
    "[10, 13], [14, 12], [15, 16], [15, 17], [15, 18], [16, 17], [16, 18], [17, 18]]\n",
    "\n",
    "# dodatne mogucnosti istrazite sami\n",
    "\n",
    "#  prikaz scene - koristi \"plotly\" biblioteku\n",
    "def prikazKocke(): \n",
    "    # izdvajamo x,y,z koordinate svih tacaka\n",
    "    xdata = (np.transpose(temenaKocke))[0]\n",
    "    ydata = (np.transpose(temenaKocke))[1]\n",
    "    zdata = (np.transpose(temenaKocke))[2]\n",
    "    # u data1 ubacujemo sve sto treba naccrtati\n",
    "    data1 = []\n",
    "    # za svaku ivicu crtamo duz na osnovu koordinata\n",
    "    for i in range(len(ivice)):\n",
    "        data1.append(go.Scatter3d(x=[xdata[ivice[i][0]], xdata[ivice[i][1]]], y=[ydata[ivice[i][0]], ydata[ivice[i][1]]],z=[zdata[ivice[i][0]], zdata[ivice[i][1]]]))\n",
    "    fig = go.Figure(data = data1 )\n",
    "    # da ne prikazuje legendu\n",
    "    fig.update_layout(showlegend=False)\n",
    "    # pravi html fajl (ako zelite da napravite \"rotatable\" 3D rekonstruciju)\n",
    "    # birate kao parametar velicinu apleta. fulhtml=False je vazno da ne bi pravio ogroman fajl\n",
    "    # ovde stavite neki vas folder\n",
    "    fig.write_html(\"./rekonstrukcija\", include_plotlyjs = 'cdn', default_width = '800px', default_height = '600px', full_html = False) #Modifiy the html file\n",
    "    fig.show()\n",
    "\n",
    "prikazKocke()"
   ]
  },
  {
   "cell_type": "code",
   "execution_count": null,
   "id": "bc026106",
   "metadata": {},
   "outputs": [],
   "source": []
  }
 ],
 "metadata": {
  "kernelspec": {
   "display_name": "Python 3 (ipykernel)",
   "language": "python",
   "name": "python3"
  },
  "language_info": {
   "codemirror_mode": {
    "name": "ipython",
    "version": 3
   },
   "file_extension": ".py",
   "mimetype": "text/x-python",
   "name": "python",
   "nbconvert_exporter": "python",
   "pygments_lexer": "ipython3",
   "version": "3.10.12"
  }
 },
 "nbformat": 4,
 "nbformat_minor": 5
}
