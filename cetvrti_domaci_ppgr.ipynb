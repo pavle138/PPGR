{
 "cells": [
  {
   "cell_type": "code",
   "execution_count": 1,
   "id": "9ed9eb03-31f0-42ff-8213-324dd47a6ec0",
   "metadata": {},
   "outputs": [],
   "source": [
    "import numpy as np\n",
    "import scipy as sp"
   ]
  },
  {
   "cell_type": "code",
   "execution_count": 2,
   "id": "8f48fc07-f3ef-474f-a171-62ad9c39f8e5",
   "metadata": {},
   "outputs": [],
   "source": [
    "def rodrigez(fi,p):\n",
    "    e=np.eye(3)\n",
    "    px=np.array([[0,-p[2],p[1]],\n",
    "                 [p[2],0,-p[0]],\n",
    "                 [-p[1],p[0],0]])\n",
    "    ppT=np.array([[p[0]**2,p[0]*p[1],p[0]*p[2]]\n",
    "                 ,[p[1]*p[0],p[1]**2,p[1]*p[2]]\n",
    "                 ,[p[2]*p[0],p[2]*p[1],p[2]**2]])\n",
    "    return (1-np.cos(fi))*ppT+np.cos(fi)*e+np.sin(fi)*px"
   ]
  },
  {
   "cell_type": "markdown",
   "id": "24ea6026-1ade-48e6-ab78-bbc1926440c5",
   "metadata": {},
   "source": [
    "--------------------Odavde pocinje cetvrti domaci--------------------"
   ]
  },
  {
   "cell_type": "code",
   "execution_count": 51,
   "id": "e810afe1-8c57-4338-9069-26a5a8374912",
   "metadata": {},
   "outputs": [],
   "source": [
    "import numpy as np\n",
    "import scipy as sp\n",
    "import math\n",
    "\n",
    "class Quaternion:\n",
    "    def __init__(self,params,w):\n",
    "        self.i=params[0]\n",
    "        self.j=params[1]\n",
    "        self.k=params[2]\n",
    "        self.params=params\n",
    "        self.w=w\n",
    "        \n",
    "    def __truediv__(self,o:Quaternion)->Quaternion:\n",
    "        if isinstance(o,Quaternion):\n",
    "            donji=o.i**2+o.j**2+o.k**2+o.w**2\n",
    "            return Quaternion([(o.w*self.i-o.i*self.w-o.j*self.k+o.k*self.j)/donji,\n",
    "                              (o.w*self.j-o.i*self.k-o.j*self.w+o.k*self.i)/donji,\n",
    "                              (o.w*self.k-o.i*self.j-o.j*self.i+o.k*self.w)/donji],\n",
    "                              (o.w*self.w-o.i*self.i-o.j*self.j+o.k*self.k)/donji)\n",
    "        else:\n",
    "            a=[]\n",
    "            for x in self.params:\n",
    "                a.append(x/o)\n",
    "            return Quaternion(a,self.w/o)\n",
    "            \n",
    "    def __add__(self,o:Quaternion)->Quaternion:\n",
    "        if isinstance(o,Quaternion):\n",
    "            return Quaternion([self.i+o.i,self.j+o.j,self.k+o.k],self.w+o.w)\n",
    "        else:\n",
    "            return Quaternion(self.params,self.w+o)\n",
    "            \n",
    "    def __radd__(self,o):\n",
    "        if not isinstance(o,Quaternion) and not isinstance(o,str):\n",
    "            return self.__add__(o)\n",
    "\n",
    "    def __sub__(self,o:Quaternion)->Quaternion:\n",
    "        if isinstance(o,Quaternion):\n",
    "            return Quaternion([self.i-o.i,self.j-o.j,self.k-o.k],self.w-o.w)       \n",
    "        else:\n",
    "            return Quaternion(self.params,self.w-o)\n",
    "            \n",
    "    def __mul__(self,o:Quaternion)->Quaternion:\n",
    "        # if self.w == 0 and o.w == 0 :\n",
    "        #     novi_params=np.cross(self.params,o.params)\n",
    "        #     novo_w=np.dot(self.params,o.params)\n",
    "        #     return Quaternion([novi_params[0],\n",
    "        #                       novi_params[1],\n",
    "        #                       novi_params[2]],\n",
    "        #                       novo_w)\n",
    "        # else:\n",
    "        #     novi_params=np.cross(self.params,o.params)+self.w*o.params+o.w*self.params\n",
    "        #     novo_w=self.w*o.w-np.dot(self.params,o.params)\n",
    "        #     return Quaternion([novi_params[0],\n",
    "        #                       novi_params[1],\n",
    "        #                       novi_params[2]],\n",
    "        #                       novo_w)\n",
    "        if isinstance(o,Quaternion): \n",
    "            return Quaternion([self.w*o.i+self.i*o.w+self.j*o.k-self.k*o.j,\n",
    "                               self.w*o.j+self.j*o.w+self.k*o.i-self.i*o.k,\n",
    "                               self.w*o.k+self.k*o.w+self.i*o.j-self.j*o.i],\n",
    "                               self.w*o.w-self.i*o.i-self.j*o.j-self.k*o.k)\n",
    "        else:\n",
    "            a=[]\n",
    "            for x in self.params:\n",
    "                a.append(x*o)\n",
    "            return Quaternion(a,self.w*o)\n",
    "\n",
    "    def __rmul__(self,o):\n",
    "        if not isinstance(o,Quaternion) and not isinstance(o,str):\n",
    "            return self.__mul__(o)\n",
    "            \n",
    "    def __imul__(self,o:Quaternion)->Quaternion:\n",
    "            return self.__mul__(o)\n",
    "    def __idiv__(self,o:Quaternion)->Quaternion:\n",
    "            return self.__truediv__(o)\n",
    "        \n",
    "    def konjugat(self)->Quaternion:\n",
    "        a=[]\n",
    "        for x in self.params:\n",
    "            a.append(-x)\n",
    "        return Quaternion(a,self.w)\n",
    "        \n",
    "    def norm(self)->float:\n",
    "        return np.sqrt(self.i**2+self.j**2+self.k**2+self.w**2)\n",
    "        \n",
    "    def dot(self,o:Quaternion)->float:\n",
    "        return self.i*o.i+self.j*o.j+self.k*o.k+self.w*o.w\n",
    "        \n",
    "    def inverse(self)->Quaternion:\n",
    "        q=(self.konjugat()/(self.norm()**2)) \n",
    "        return Quaternion(q.params,q.w)\n",
    "        \n",
    "    def __str__(self)->str:\n",
    "        return '['+str(self.i)+'i'+','+str(self.j)+'j'+','+str(self.k)+'k'+','+str(self.w)+']' \n",
    "    def __repr__(self)->str:\n",
    "        return '['+str(self.i)+'i'+','+str(self.j)+'j'+','+str(self.k)+'k'+','+str(self.w)+']'\n",
    "\n",
    "    def __neg__(self)->Quaternion:\n",
    "        fi,p=Q2AngleAxis(self)\n",
    "        return AngleAxis2Q(-fi,-p)\n",
    "\n",
    "    def __eq__(self,o:Quaternion)->bool:\n",
    "        return (self.i==o.i and self.j==o.j and self.k==o.k and self.w==o.w)\n",
    "\n",
    "#dodato zbog predstavljanja SLerpa pomocu stepena (videcemo da li radi)\n",
    "    def vector_part(self)->Quaternion:\n",
    "        return (self-self.konjugat())/2\n",
    "    def sign(self)->Quaternion:\n",
    "        return self/self.norm()\n",
    "    def arg(self)->float:\n",
    "        return np.arccos(w/self.norm())\n",
    "    def exp(self):\n",
    "        return (self.vector_part().sign()*np.sin(self.vector_part().norm())+np.cos(self.vector_part().norm()))*math.exp(self.w)\n",
    "    def ln(self):\n",
    "        return self.sign()*np.sin(self.vector_part().norm())+math.log(self.norm())\n",
    "    def __pow__(self,o:int):\n",
    "        return (self.ln()*o).exp()"
   ]
  },
  {
   "cell_type": "code",
   "execution_count": 24,
   "id": "279c13c8-04e2-41e2-96c2-3d01aeb1deaa",
   "metadata": {},
   "outputs": [],
   "source": [
    "def AngleAxis2Q(fi,p):\n",
    "    w=np.cos(fi/2)\n",
    "    p/=np.linalg.norm(p)\n",
    "    params=np.sin(fi/2)*p\n",
    "    return Quaternion(params,w)"
   ]
  },
  {
   "cell_type": "code",
   "execution_count": 28,
   "id": "a1cc9260-8884-4392-8b06-7a8fb8ae30ca",
   "metadata": {},
   "outputs": [],
   "source": [
    "def Q2AngleAxis(q:Quaternion):\n",
    "    q/=q.norm()\n",
    "    if q.w<0:\n",
    "        q=q*(-1)\n",
    "    fi=2*np.arccos(q.w)\n",
    "    if abs(q.w) == 1:\n",
    "        p=np.array[1,0,0]\n",
    "    else:\n",
    "        p=q.params\n",
    "        p/=np.linalg.norm(p)\n",
    "    return fi,p"
   ]
  },
  {
   "cell_type": "code",
   "execution_count": 55,
   "id": "eaee072a-2773-433c-9633-7b5158d7bd11",
   "metadata": {},
   "outputs": [],
   "source": [
    "def Konjugacija(p:Quaternion,q:Quaternion)->Quaternion:\n",
    "    #Cq(p)=qpq^-1\n",
    "    return q*p*q.inverse()"
   ]
  },
  {
   "cell_type": "code",
   "execution_count": 32,
   "id": "136fb4f4-02ff-48a0-b9aa-b181ea4ae738",
   "metadata": {},
   "outputs": [],
   "source": [
    "def SLerp(q1:Quaternion,q2:Quaternion,tm:int):\n",
    "    cos0=q1.dot(q2)\n",
    "    #print(cos0)\n",
    "    if cos0 < 0:\n",
    "        q1=q1*(-1)\n",
    "        cos0=-cos0\n",
    "    if cos0 > 0.95:\n",
    "        q1=q1*(-1) #ili lerp interpolaciju\n",
    "    fi=np.arccos(cos0)\n",
    "    return [q1*(np.sin(fi*(1-i/tm))/np.sin(fi))\n",
    "            +q2*(np.sin(fi*(i/tm))/np.sin(fi)) for i in range(tm)]"
   ]
  },
  {
   "cell_type": "code",
   "execution_count": 61,
   "id": "2dc02ecc-88a9-49ea-bea2-39808de781fe",
   "metadata": {},
   "outputs": [],
   "source": [
    "q1=Quaternion([3,0,-5],1)\n",
    "q2=Quaternion([1,1,0],7)"
   ]
  },
  {
   "cell_type": "code",
   "execution_count": 62,
   "id": "fdb009a7-26d2-4976-831b-230d7c60363b",
   "metadata": {},
   "outputs": [],
   "source": [
    "q7=Quaternion([1,0,2],2)"
   ]
  },
  {
   "cell_type": "code",
   "execution_count": 63,
   "id": "620916df-eb49-40e4-98f5-2f1869ec4fb8",
   "metadata": {},
   "outputs": [
    {
     "data": {
      "text/plain": [
       "[0.0i,-1.9999999999999996j,-1.9999999999999996k,0.9999999999999997]"
      ]
     },
     "execution_count": 63,
     "metadata": {},
     "output_type": "execute_result"
    }
   ],
   "source": [
    "Konjugacija(q5,q6)"
   ]
  },
  {
   "cell_type": "code",
   "execution_count": null,
   "id": "df742c27-351d-4e7a-b676-56112dc943ca",
   "metadata": {},
   "outputs": [],
   "source": []
  }
 ],
 "metadata": {
  "kernelspec": {
   "display_name": "Python 3 (ipykernel)",
   "language": "python",
   "name": "python3"
  },
  "language_info": {
   "codemirror_mode": {
    "name": "ipython",
    "version": 3
   },
   "file_extension": ".py",
   "mimetype": "text/x-python",
   "name": "python",
   "nbconvert_exporter": "python",
   "pygments_lexer": "ipython3",
   "version": "3.8.18"
  }
 },
 "nbformat": 4,
 "nbformat_minor": 5
}
