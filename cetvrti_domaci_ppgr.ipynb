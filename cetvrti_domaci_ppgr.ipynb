{
 "cells": [
  {
   "cell_type": "code",
   "execution_count": 2,
   "id": "9ed9eb03-31f0-42ff-8213-324dd47a6ec0",
   "metadata": {},
   "outputs": [],
   "source": [
    "import numpy as np\n",
    "import scipy as sp"
   ]
  },
  {
   "cell_type": "code",
   "execution_count": 197,
   "id": "8f48fc07-f3ef-474f-a171-62ad9c39f8e5",
   "metadata": {},
   "outputs": [],
   "source": [
    "def rodrigez(fi,p):\n",
    "    e=np.eye(3)\n",
    "    px=np.array([[0,-p[2],p[1]],\n",
    "                 [p[2],0,-p[0]],\n",
    "                 [-p[1],p[0],0]])\n",
    "    ppT=np.array([[p[0]**2,p[0]*p[1],p[0]*p[2]]\n",
    "                 ,[p[1]*p[0],p[1]**2,p[1]*p[2]]\n",
    "                 ,[p[2]*p[0],p[2]*p[1],p[2]**2]])\n",
    "    return (1-np.cos(fi))*ppT+np.cos(fi)*e+np.sin(fi)*px"
   ]
  },
  {
   "cell_type": "code",
   "execution_count": 214,
   "id": "678c50eb-f537-46c9-8e2c-c24f7a553abd",
   "metadata": {},
   "outputs": [],
   "source": [
    "def A2AxisAngle(A):\n",
    "# 1. Odredi jedinicni sopstveni vektor p za lambda=1\n",
    "# 2. Odredi proizvoljan jedinicni vektor u normalan na p\n",
    "# 3. Odredi u_prim koji je jednak A*u (u_prim je jedinicni)\n",
    "# 4. Odredi fi koji je jednak arccos(u,u_prim)\n",
    "# 5. Ako je mesoviti proizvod u,u_prim,p < 0, onda p=-p\n",
    "# 1.\n",
    "    sopstvene_vrednosti,sopstveni_vektori=sp.linalg.eig(A,left=True,right=False)\n",
    "    p=sopstveni_vektori[:,2]\n",
    "    p=np.array(p)\n",
    "    p=np.real(p)\n",
    "# 2. Gram Šmit ortogonalizacija\n",
    "    u = np.array([1.0,2.0,3.0])\n",
    "    u -= u.dot(p) * p / np.linalg.norm(p)**2 \n",
    "    u /= np.linalg.norm(u)\n",
    "# 3.\n",
    "    u_prim=A@u\n",
    "    u_prim/=np.linalg.norm(u_prim)\n",
    "# 4.    \n",
    "    fi=np.arccos(u.dot(u_prim)/(np.linalg.norm(u)*np.linalg.norm(u_prim)))\n",
    "# 5.\n",
    "    if np.dot(u,np.cross(u_prim,p)) < 0:\n",
    "        p=-p\n",
    "    return p,fi"
   ]
  },
  {
   "cell_type": "code",
   "execution_count": 215,
   "id": "e8a91092-e3c3-4819-aa4f-0e5066c840e9",
   "metadata": {
    "editable": true,
    "slideshow": {
     "slide_type": ""
    },
    "tags": []
   },
   "outputs": [
    {
     "name": "stdout",
     "output_type": "stream",
     "text": [
      "[[ 0.11111111 -0.8888889  -0.44444445]\n",
      " [ 0.44444445  0.44444445 -0.7777778 ]\n",
      " [ 0.8888889  -0.11111111  0.44444445]]\n"
     ]
    },
    {
     "data": {
      "text/plain": [
       "array([[ 0.11111117, -0.88888896, -0.44444433],\n",
       "       [ 0.44444442,  0.44444439, -0.77777785],\n",
       "       [ 0.88888893, -0.11111099,  0.44444447]])"
      ]
     },
     "execution_count": 215,
     "metadata": {},
     "output_type": "execute_result"
    }
   ],
   "source": [
    "A=np.array([[1,-8,-4],[4,4,-7],[8,-1,4]],dtype='float32')\n",
    "A=A/9\n",
    "print(A)\n",
    "p,fi=A2AxisAngle(A)\n",
    "rodrigez(fi,p)"
   ]
  },
  {
   "cell_type": "code",
   "execution_count": 216,
   "id": "7dbcec6b-0b46-4b91-9229-42c469ad6e55",
   "metadata": {
    "editable": true,
    "slideshow": {
     "slide_type": ""
    },
    "tags": []
   },
   "outputs": [],
   "source": [
    "def A2Euler(A):\n",
    "    if A[2][0] < 1:\n",
    "        if A[2][0] > -1: #jedinstveno resenje\n",
    "            psi=np.arctan2(A[1][0],A[0][0])\n",
    "            teta=np.arcsin(-A[2][0])\n",
    "            fi=np.arctan2(A[2][1],A[2][2])\n",
    "            return psi,teta,fi\n",
    "        else: # Ox3=-Oz\n",
    "            psi=np.arctan2(-A[0][1],A[1][1])\n",
    "            teta=np.pi/2\n",
    "            fi=0\n",
    "            return psi,teta,fi\n",
    "    else: #Ox3=Oz\n",
    "        psi=np.arctan2(-A[0][1],A[1][1])\n",
    "        teta=-np.pi/2\n",
    "        fi=0\n",
    "        return psi,teta,fi"
   ]
  },
  {
   "cell_type": "code",
   "execution_count": 217,
   "id": "17b26618-1f08-4d8d-9878-8f6c916973f6",
   "metadata": {},
   "outputs": [
    {
     "data": {
      "text/plain": [
       "(1.3258177, -1.0949141, -0.24497867)"
      ]
     },
     "execution_count": 217,
     "metadata": {},
     "output_type": "execute_result"
    }
   ],
   "source": [
    "A2Euler(A)"
   ]
  },
  {
   "cell_type": "markdown",
   "id": "24ea6026-1ade-48e6-ab78-bbc1926440c5",
   "metadata": {},
   "source": [
    "--------------------Odavde pocinje cetvrti domaci--------------------"
   ]
  },
  {
   "cell_type": "code",
   "execution_count": 132,
   "id": "e810afe1-8c57-4338-9069-26a5a8374912",
   "metadata": {},
   "outputs": [],
   "source": [
    "import numpy as np\n",
    "import scipy as sp\n",
    "import math\n",
    "\n",
    "class Quaternion:\n",
    "    def __init__(self,params,w):\n",
    "        self.i=params[0]\n",
    "        self.j=params[1]\n",
    "        self.k=params[2]\n",
    "        self.params=params\n",
    "        self.w=w\n",
    "        \n",
    "    def __truediv__(self,o:Quaternion)->Quaternion:\n",
    "        if isinstance(o,Quaternion):\n",
    "            donji=o.i**2+o.j**2+o.k**2+o.w**2\n",
    "            return Quaternion([(o.w*self.i-o.i*self.w-o.j*self.k+o.k*self.j)/donji,\n",
    "                              (o.w*self.j-o.i*self.k-o.j*self.w+o.k*self.i)/donji,\n",
    "                              (o.w*self.k-o.i*self.j-o.j*self.i+o.k*self.w)/donji],\n",
    "                              (o.w*self.w-o.i*self.i-o.j*self.j+o.k*self.k)/donji)\n",
    "        else:\n",
    "            for x in self.params:\n",
    "                x/=o\n",
    "            return Quaternion(self.params,self.w/o)\n",
    "            \n",
    "    def __add__(self,o:Quaternion)->Quaternion:\n",
    "        return Quaternion([self.i+o.i,self.j+o.j,self.k+o.k],self.w+o.w)\n",
    "\n",
    "    def __sub__(self,o:Quaternion)->Quaternion:\n",
    "        return Quaternion([self.i-o.i,self.j-o.j,self.k-o.k],self.w-o.w)       \n",
    "    \n",
    "    def __mul__(self,o:Quaternion)->Quaternion:\n",
    "        # if self.w == 0 and o.w == 0 :\n",
    "        #     novi_params=np.cross(self.params,o.params)\n",
    "        #     novo_w=np.dot(self.params,o.params)\n",
    "        #     return Quaternion([novi_params[0],\n",
    "        #                       novi_params[1],\n",
    "        #                       novi_params[2]],\n",
    "        #                       novo_w)\n",
    "        # else:\n",
    "        #     novi_params=np.cross(self.params,o.params)+self.w*o.params+o.w*self.params\n",
    "        #     novo_w=self.w*o.w-np.dot(self.params,o.params)\n",
    "        #     return Quaternion([novi_params[0],\n",
    "        #                       novi_params[1],\n",
    "        #                       novi_params[2]],\n",
    "        #                       novo_w)\n",
    "        if isinstance(o,Quaternion): \n",
    "            return Quaternion([self.w*o.i+self.i*o.w+self.j*o.k-self.k*o.j,\n",
    "                               self.w*o.j+self.j*o.w+self.k*o.i-self.i*o.k,\n",
    "                               self.w*o.k+self.k*o.w+self.i*o.j-self.j*o.i],\n",
    "                               self.w*o.w-self.i*o.i-self.j*o.j-self.k*o.k)\n",
    "        else:\n",
    "            for x in self.params:\n",
    "                x*=o\n",
    "            return Quaternion(self.params,self.w*o)\n",
    "            \n",
    "    def __idiv__(self,o:Quaternion)->Quaternion:\n",
    "            return self/o\n",
    "        \n",
    "    def konjugat(self)->Quaternion:\n",
    "        for x in self.params:\n",
    "            x=-x\n",
    "        return Quaternion(self.params,self.w)\n",
    "        \n",
    "    def norm(self)->float:\n",
    "        return np.sqrt(self.i**2+self.j**2+self.k**2+self.w**2)\n",
    "        \n",
    "    def dot(self,o:Quaternion)->float:\n",
    "            return self.i*o.i+self.j*o.j+self.k*o.k+self.w*o.w\n",
    "        \n",
    "    def inverse(self)->Quaternion:\n",
    "        return self.konjugat()/(self.norm()**2)\n",
    "        \n",
    "    def __str__(self)->str:\n",
    "        return '['+str(self.i)+','+str(self.j)+','+str(self.k)+','+str(self.w)+']' \n",
    "    def __repr__(self)->str:\n",
    "        return '['+str(self.i)+','+str(self.j)+','+str(self.k)+','+str(self.w)+']' \n",
    "\n",
    "    def __neg__(self)->Quaternion:\n",
    "        fi,p=Q2AngleAxis(self)\n",
    "        return AngleAxis2Q(-fi,-p)\n",
    "\n",
    "    def __eq__(self,o:Quaternion)->bool:\n",
    "        return (self.i==o.i and self.j==o.j and self.k==o.k and self.w==o.w)\n",
    "\n",
    "#dodato zbog predstavljanja SLerpa pomocu stepena (videcemo da li radi)\n",
    "    def vector_part(self)->Quaternion:\n",
    "        return (self-self.konjugat())/2\n",
    "    def sign(self)->Quaternion:\n",
    "        return self/self.norm()\n",
    "    def arg(self)->float:\n",
    "        return np.arccos(w/self.norm())\n",
    "    def exp(self):\n",
    "        return math.exp(self.w)*(np.cos(self.vector_part().norm())+self.sign(self.vector_part())*np.sin(self.norm(self.vector_part())))\n",
    "    def ln(self):\n",
    "        return math.log(self.norm())+self.sign()*np.sin(self.vector_part().norm())\n",
    "    def __pow__(self,o:int):\n",
    "        return (self.ln()*n).exp()"
   ]
  },
  {
   "cell_type": "code",
   "execution_count": 123,
   "id": "279c13c8-04e2-41e2-96c2-3d01aeb1deaa",
   "metadata": {},
   "outputs": [],
   "source": [
    " def AngleAxis2Q(fi,p):\n",
    "        w=np.cos(fi/2)\n",
    "        p/=np.linalg.norm(p)\n",
    "        params=np.sin(fi/2)*p\n",
    "        return Quaternion([params[0],params[1],params[2]],w)"
   ]
  },
  {
   "cell_type": "code",
   "execution_count": 111,
   "id": "a1cc9260-8884-4392-8b06-7a8fb8ae30ca",
   "metadata": {},
   "outputs": [],
   "source": [
    "def Q2AngleAxis(q:Quaternion):\n",
    "    q/=q.norm()\n",
    "    if q.w<0:\n",
    "        q=-q\n",
    "    fi=2*np.arccos(q.w)\n",
    "    if abs(q.w) == 1:\n",
    "        p=np.array[1,0,0]\n",
    "    else:\n",
    "        p=q.params\n",
    "        p/=np.linalg.norm(p)\n",
    "    return fi,p"
   ]
  },
  {
   "cell_type": "code",
   "execution_count": 129,
   "id": "136fb4f4-02ff-48a0-b9aa-b181ea4ae738",
   "metadata": {},
   "outputs": [],
   "source": [
    "def SLerp(q1:Quaternion,q2:Quaternion,tm:int):\n",
    "    cos0=q1.dot(q2)\n",
    "    print (cos0)\n",
    "    if cos0 < 0:\n",
    "        q1=-q1\n",
    "        cos0=-cos0\n",
    "    if cos0 > 0.95:\n",
    "        q1=-q1 #ili lerp interpolaciju\n",
    "    fi=np.arccos(cos0)\n",
    "    return [q1*(np.sin((1-i/tm)*fi)/np.sin(fi))\n",
    "            +q2*(np.sin((i/tm)*fi)/np.sin(fi)) for i in range(tm)]"
   ]
  },
  {
   "cell_type": "code",
   "execution_count": 97,
   "id": "2dc02ecc-88a9-49ea-bea2-39808de781fe",
   "metadata": {},
   "outputs": [
    {
     "data": {
      "text/plain": [
       "[27,-4,-32,0.002240896358543417]"
      ]
     },
     "execution_count": 97,
     "metadata": {},
     "output_type": "execute_result"
    }
   ],
   "source": [
    "q1=Quaternion([3,0,-5],1)\n",
    "q2=Quaternion([1,1,0],7)\n",
    "(q1*q2).inverse()"
   ]
  },
  {
   "cell_type": "code",
   "execution_count": 118,
   "id": "768e98eb-15e1-4696-8eeb-2c8a82a8cb38",
   "metadata": {},
   "outputs": [
    {
     "name": "stdout",
     "output_type": "stream",
     "text": [
      "[-0.51449576 -0.          0.85749293]\n",
      "-0.9856107606091623\n",
      "[ 0.50709255  0.         -0.84515425]\n"
     ]
    }
   ],
   "source": [
    "q3=-q1"
   ]
  },
  {
   "cell_type": "code",
   "execution_count": 120,
   "id": "f3c6e206-0417-4ae6-b0fe-fc7a0d9806d8",
   "metadata": {},
   "outputs": [],
   "source": [
    "q3=q1/q1.norm()\n",
    "q4=q2/q2.norm()"
   ]
  },
  {
   "cell_type": "code",
   "execution_count": 128,
   "id": "df0e9d6d-ec4b-4a90-ac2d-7c5bab63b002",
   "metadata": {},
   "outputs": [
    {
     "name": "stdout",
     "output_type": "stream",
     "text": [
      "3.1656833739159027\n"
     ]
    },
    {
     "name": "stderr",
     "output_type": "stream",
     "text": [
      "C:\\Users\\Tanja\\AppData\\Local\\Temp\\ipykernel_13520\\2674741016.py:9: RuntimeWarning: invalid value encountered in arccos\n",
      "  fi=np.arccos(cos0)\n"
     ]
    },
    {
     "data": {
      "text/plain": [
       "[[1.5142797168895836,1.0,-0.8571328614826393,nan],\n",
       " [1.5142797168895836,1.0,-0.8571328614826393,nan],\n",
       " [1.5142797168895836,1.0,-0.8571328614826393,nan],\n",
       " [1.5142797168895836,1.0,-0.8571328614826393,nan],\n",
       " [1.5142797168895836,1.0,-0.8571328614826393,nan],\n",
       " [1.5142797168895836,1.0,-0.8571328614826393,nan],\n",
       " [1.5142797168895836,1.0,-0.8571328614826393,nan],\n",
       " [1.5142797168895836,1.0,-0.8571328614826393,nan],\n",
       " [1.5142797168895836,1.0,-0.8571328614826393,nan],\n",
       " [1.5142797168895836,1.0,-0.8571328614826393,nan]]"
      ]
     },
     "execution_count": 128,
     "metadata": {},
     "output_type": "execute_result"
    }
   ],
   "source": [
    "SLerp(q3,q4,10)"
   ]
  },
  {
   "cell_type": "code",
   "execution_count": null,
   "id": "77485ca3-03ec-4970-b2a3-436468fc58bd",
   "metadata": {},
   "outputs": [],
   "source": []
  }
 ],
 "metadata": {
  "kernelspec": {
   "display_name": "Python 3 (ipykernel)",
   "language": "python",
   "name": "python3"
  },
  "language_info": {
   "codemirror_mode": {
    "name": "ipython",
    "version": 3
   },
   "file_extension": ".py",
   "mimetype": "text/x-python",
   "name": "python",
   "nbconvert_exporter": "python",
   "pygments_lexer": "ipython3",
   "version": "3.8.18"
  }
 },
 "nbformat": 4,
 "nbformat_minor": 5
}
