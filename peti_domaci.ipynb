{
 "cells": [
  {
   "cell_type": "code",
   "execution_count": 4,
   "id": "eec8e7a4-827f-4563-9619-6f0acf175bdd",
   "metadata": {},
   "outputs": [],
   "source": [
    "import numpy as np\n",
    "import scipy.linalg as sp"
   ]
  },
  {
   "cell_type": "code",
   "execution_count": 9,
   "id": "00e27376-fd3d-4dd0-a630-828136ecc166",
   "metadata": {},
   "outputs": [],
   "source": [
    "def centar(T):\n",
    "    C=sp.null_space(T)\n",
    "    C = np.where(np.isclose(C, 0) , 0.0 , C)\n",
    "    return C/C[-1]"
   ]
  },
  {
   "cell_type": "code",
   "execution_count": 8,
   "id": "1435e1e3-11a7-4621-ac6c-fa30e2352454",
   "metadata": {},
   "outputs": [
    {
     "name": "stdout",
     "output_type": "stream",
     "text": [
      "[[ 2.]\n",
      " [-1.]\n",
      " [ 4.]\n",
      " [ 1.]]\n"
     ]
    }
   ],
   "source": [
    "T = np.array([[-2,3,0,7], [-3,0,3,-6], [1,0,0,-2]])\n",
    "print(centar(T))"
   ]
  },
  {
   "cell_type": "code",
   "execution_count": 48,
   "id": "501b6d10-e213-443c-980b-8fc6b9d5051d",
   "metadata": {},
   "outputs": [],
   "source": [
    "def sredi_znak(Q,R):\n",
    "    if R[0,0] < 0 :\n",
    "        R[0,:]*=-1\n",
    "        Q[:,0]*=-1\n",
    "    if R[1,1] < 0 :\n",
    "        R[1,:]*=-1\n",
    "        Q[:,1]*=-1\n",
    "    if R[2,2] < 0 :\n",
    "        R[2,:]*=-1\n",
    "        Q[:,2]*=-1"
   ]
  },
  {
   "cell_type": "code",
   "execution_count": 75,
   "id": "773daad8-673e-4688-a0b5-a05dd4bad0b7",
   "metadata": {},
   "outputs": [],
   "source": [
    "def kameraK(T):\n",
    "    T0=np.asmatrix(T[:,:-1]).I\n",
    "    T0=np.where(np.isclose(T0, 0) , 0.0 , T0)\n",
    "    if np.linalg.det(T0) < 0:\n",
    "        T0*=-1\n",
    "    Q,R=np.linalg.qr(T0)\n",
    "    sredi_znak(Q,R)\n",
    "    K=np.asmatrix(R).I\n",
    "    K=np.where(np.isclose(K, 0) , 0.0 , K)\n",
    "    return K/K[2,2]"
   ]
  },
  {
   "cell_type": "code",
   "execution_count": 50,
   "id": "3598a64c-6cdd-48d8-938b-e0335fda7b82",
   "metadata": {},
   "outputs": [
    {
     "name": "stdout",
     "output_type": "stream",
     "text": [
      "[[ 3.  0. -2.]\n",
      " [ 0.  3. -3.]\n",
      " [ 0.  0.  1.]]\n"
     ]
    }
   ],
   "source": [
    "T = np.array([[-2,3,0,7], [-3,0,3,-6], [1,0,0,-2]])\n",
    "print(kameraK(T))"
   ]
  },
  {
   "cell_type": "code",
   "execution_count": 72,
   "id": "cc771fa5-069f-4ccf-9549-878bd0238325",
   "metadata": {},
   "outputs": [],
   "source": [
    "def kameraA(T):\n",
    "    T0=np.asmatrix(T[:,:-1]).I\n",
    "    T0=np.where(np.isclose(T0, 0) , 0.0 , T0)\n",
    "    if np.linalg.det(T0) < 0:\n",
    "        T0*=-1\n",
    "    Q,R=np.linalg.qr(T0)\n",
    "    sredi_znak(Q,R)\n",
    "    A=np.transpose(Q)\n",
    "    A=np.where(np.isclose(A, 0) , 0.0 , A)\n",
    "    return A"
   ]
  },
  {
   "cell_type": "code",
   "execution_count": 73,
   "id": "10a4d9e1-5d6a-4d95-adca-19fcbea3d02d",
   "metadata": {},
   "outputs": [
    {
     "name": "stdout",
     "output_type": "stream",
     "text": [
      "[[0. 1. 0.]\n",
      " [0. 0. 1.]\n",
      " [1. 0. 0.]]\n"
     ]
    }
   ],
   "source": [
    "T = np.array([[-2,3,0,7], [-3,0,3,-6], [1,0,0,-2]])\n",
    "print(kameraA(T))"
   ]
  },
  {
   "cell_type": "code",
   "execution_count": 74,
   "id": "76ea3a13-583b-4af4-8b5b-18ccd2a79a62",
   "metadata": {},
   "outputs": [
    {
     "name": "stdout",
     "output_type": "stream",
     "text": [
      "[[ 0.23389563 -0.95953359 -0.15680601]\n",
      " [ 0.4349197   0.24750198 -0.86578729]\n",
      " [ 0.86956178  0.13430584  0.47520969]]\n"
     ]
    }
   ],
   "source": [
    "T2 = np.array([[-40.76114 , 96.88137  , 5.02608 , 257.87105],\n",
    " [-80.7022 , -30.26509 , 64.822  , 433.86004],\n",
    " [ -0.02538 , -0.00392 , -0.01387 ,  1.     ]])\n",
    "print(kameraA(T2))"
   ]
  },
  {
   "cell_type": "code",
   "execution_count": 82,
   "id": "345ead8e-13f2-4e5f-bc7d-2ff7a2631bb4",
   "metadata": {},
   "outputs": [],
   "source": [
    "def matricaKamere(pts2D, pts3D):\n",
    "    matrica=[]\n",
    "    for y,x in zip(pts2D,pts3D):\n",
    "        prvi=[0,0,0,0,-y[2]*x[0],-y[2]*x[1],-y[2]*x[2],-y[2]*x[3],y[1]*x[0],y[1]*x[1],y[1]*x[2],y[1]*x[3]]\n",
    "        drugi=[y[2]*x[0],y[2]*x[1],y[2]*x[2],y[2]*x[3],0,0,0,0,-y[0]*x[0],-y[0]*x[1],-y[0]*x[2],-y[0]*x[3]]\n",
    "        matrica.append(prvi)\n",
    "        matrica.append(drugi)\n",
    "    matrica=np.array(matrica)\n",
    "    U,D,VT=np.linalg.svd(matrica)\n",
    "    T=VT[-1]\n",
    "    T=T.reshape(3,4)\n",
    "    T/=T[2,3]\n",
    "    T=np.where(np.isclose(T, 0) , 0.0 , T)\n",
    "    return T"
   ]
  },
  {
   "cell_type": "code",
   "execution_count": 83,
   "id": "4fbb779d-94fd-438b-8566-02969fc1904c",
   "metadata": {},
   "outputs": [
    {
     "name": "stdout",
     "output_type": "stream",
     "text": [
      "[[-4.95933456e+00 -2.53600395e-01  1.79306654e+00  1.09046525e+00]\n",
      " [-6.93111919e+00  4.90342386e-03  3.79892319e+00 -2.18612503e-01]\n",
      " [-5.88155295e+00 -3.99314702e-01  2.34600792e+00  1.00000000e+00]]\n"
     ]
    }
   ],
   "source": [
    "pts2D = np.array([[12, 61, 31], [1, 95, 4], [20, 82, 19], [56, 50, 55], [32, 65, 84], [46, 39, 16], [67, 63, 78]])\n",
    "pts3D = np.array([[44, 61, 31, 99], [17, 84, 40, 45], [20, 59, 65, 3], [37, 81, 70, 82], [7, 95, 8, 29], [31, 61, 91, 37], [82, 99, 80, 7]])\n",
    "print(matricaKamere(pts2D,pts3D))"
   ]
  },
  {
   "cell_type": "markdown",
   "id": "d830b920-3113-4e24-85dd-ee6a73f4bc89",
   "metadata": {},
   "source": [
    "-----------------Gotove verzije za tester koje samo copy-paste direktno.-------------"
   ]
  },
  {
   "cell_type": "markdown",
   "id": "dcfa3a8a-2f2e-49a6-b030-4ceda514d84a",
   "metadata": {},
   "source": [
    "1. Zad\n",
    "\n",
    "Trenutno ne radi zato sto tester na RCUB-u nema verziju scipy u kojoj postoji scipy.linalg.null_space()"
   ]
  },
  {
   "cell_type": "code",
   "execution_count": 110,
   "id": "d29c25e8-6a43-4341-ad9e-8f63e6a0b278",
   "metadata": {},
   "outputs": [],
   "source": [
    "import numpy as np\n",
    "import scipy.linalg as sp\n",
    "from numpy import linalg\n",
    "import math\n",
    "np.set_printoptions(precision=5, suppress=True) \n",
    " \n",
    " # ovde pišete pomocne funkcije\n",
    " \n",
    "def centar(T):\n",
    "    C=sp.null_space(T)\n",
    "    C = np.where(np.isclose(C, 0) , 0.0 , C)\n",
    "    C/=C[-1]\n",
    "    novi=[]\n",
    "    for x in C:   #Glupa funkcija za formatiranje izlaza za tester\n",
    "        for y in x:\n",
    "            novi.append(y)\n",
    "    return np.array(novi)"
   ]
  },
  {
   "cell_type": "markdown",
   "id": "dccfa66a-63af-45d1-bf66-387288adc6e3",
   "metadata": {},
   "source": [
    "Ova verzija radi, samo zato sto direktno implementira scipy.linalg.null_space()"
   ]
  },
  {
   "cell_type": "code",
   "execution_count": 111,
   "id": "b51cb0d9-55be-4b95-8b83-13dba23b5d48",
   "metadata": {},
   "outputs": [],
   "source": [
    "import numpy\n",
    "import numpy as np\n",
    "from numpy import linalg\n",
    "import math\n",
    "np.set_printoptions(precision=5, suppress=True) \n",
    "\n",
    "def null_space(A, rcond=None):\n",
    "    u, s, vh = linalg.svd(A, full_matrices=True)\n",
    "    M, N = u.shape[0], vh.shape[1]\n",
    "    if rcond is None:\n",
    "        rcond = numpy.finfo(s.dtype).eps * max(M, N)\n",
    "    tol = numpy.amax(s) * rcond\n",
    "    num = numpy.sum(s > tol, dtype=int)\n",
    "    Q = vh[num:,:].T.conj()\n",
    "    return Q\n",
    "\n",
    "def centar(T):\n",
    "    C=null_space(T)\n",
    "    C = np.where(np.isclose(C, 0) , 0.0 , C)\n",
    "    C/=C[-1]\n",
    "    novi=[]\n",
    "    for x in C:   #Glupa funkcija za formatiranje izlaza za tester\n",
    "        for y in x:\n",
    "            novi.append(y)\n",
    "    return np.array(novi)"
   ]
  },
  {
   "cell_type": "markdown",
   "id": "30cac0fa-d022-4331-8b11-c12d4c5ec5c4",
   "metadata": {},
   "source": [
    "2. Zad"
   ]
  },
  {
   "cell_type": "code",
   "execution_count": null,
   "id": "a85446ee-5f9b-4b3a-a48d-db004c648a3e",
   "metadata": {},
   "outputs": [],
   "source": [
    "import numpy as np\n",
    "from numpy import linalg\n",
    "import math\n",
    "np.set_printoptions(precision=5, suppress=True) \n",
    " \n",
    " # ovde pišete pomocne funkcije\n",
    "def sredi_znak(Q,R):\n",
    "    if R[0,0] < 0 :\n",
    "        R[0,:]*=-1\n",
    "        Q[:,0]*=-1\n",
    "    if R[1,1] < 0 :\n",
    "        R[1,:]*=-1\n",
    "        Q[:,1]*=-1\n",
    "    if R[2,2] < 0 :\n",
    "        R[2,:]*=-1\n",
    "        Q[:,2]*=-1\n",
    " \n",
    "def kameraK(T):\n",
    "    T0=np.asmatrix(T[:,:-1]).I\n",
    "    T0=np.where(np.isclose(T0, 0) , 0.0 , T0)\n",
    "    Q,R=np.linalg.qr(T0)\n",
    "    sredi_znak(Q,R)\n",
    "    K=np.asmatrix(R).I\n",
    "    K=np.where(np.isclose(K, 0) , 0.0 , K)\n",
    "    return K/K[2,2]\n",
    " "
   ]
  },
  {
   "cell_type": "markdown",
   "id": "e40ca9dd-f5ef-4f89-b4c2-2579f75154b7",
   "metadata": {},
   "source": [
    "3. Zad"
   ]
  },
  {
   "cell_type": "code",
   "execution_count": null,
   "id": "51c20d33-96fa-4338-8242-005519c338fb",
   "metadata": {},
   "outputs": [],
   "source": [
    "import numpy as np\n",
    "from numpy import linalg\n",
    "import math\n",
    "np.set_printoptions(precision=5, suppress=True) \n",
    " \n",
    " # ovde pišete pomocne funkcije\n",
    "def sredi_znak(Q,R):\n",
    "    if R[0,0] < 0 :\n",
    "        R[0,:]*=-1\n",
    "        Q[:,0]*=-1\n",
    "    if R[1,1] < 0 :\n",
    "        R[1,:]*=-1\n",
    "        Q[:,1]*=-1\n",
    "    if R[2,2] < 0 :\n",
    "        R[2,:]*=-1\n",
    "        Q[:,2]*=-1\n",
    " \n",
    "def kameraA(T):\n",
    "    T0=np.asmatrix(T[:,:-1]).I\n",
    "    T0=np.where(np.isclose(T0, 0) , 0.0 , T0)\n",
    "    if np.linalg.det(T0) < 0:\n",
    "        T0*=-1\n",
    "    Q,R=np.linalg.qr(T0)\n",
    "    sredi_znak(Q,R)\n",
    "    A=np.transpose(Q)\n",
    "    A=np.where(np.isclose(A, 0) , 0.0 , A)\n",
    "    return A\n",
    " "
   ]
  },
  {
   "cell_type": "markdown",
   "id": "a167df80-cbab-47e9-9d16-8ce021991490",
   "metadata": {},
   "source": [
    "4. Zad"
   ]
  },
  {
   "cell_type": "code",
   "execution_count": null,
   "id": "68846662-9f23-4de1-a376-21521f562034",
   "metadata": {},
   "outputs": [],
   "source": [
    "import numpy as np\n",
    "from numpy import linalg\n",
    "import math\n",
    "np.set_printoptions(precision=5, suppress=True) \n",
    " \n",
    " # ovde pišete pomocne funkcije\n",
    " \n",
    "def matricaKamere(pts2D : np.array, pts3D : np.array):\n",
    "    matrica=[]\n",
    "    for y,x in zip(pts2D,pts3D):\n",
    "        prvi=[0,0,0,0,-y[2]*x[0],-y[2]*x[1],-y[2]*x[2],-y[2]*x[3],y[1]*x[0],y[1]*x[1],y[1]*x[2],y[1]*x[3]]\n",
    "        drugi=[y[2]*x[0],y[2]*x[1],y[2]*x[2],y[2]*x[3],0,0,0,0,-y[0]*x[0],-y[0]*x[1],-y[0]*x[2],-y[0]*x[3]]\n",
    "        matrica.append(prvi)\n",
    "        matrica.append(drugi)\n",
    "    matrica=np.array(matrica)\n",
    "    U,D,VT=np.linalg.svd(matrica)\n",
    "    T=VT[-1]\n",
    "    T=T.reshape(3,4)\n",
    "    T/=T[2,3]\n",
    "    T=np.where(np.isclose(T, 0) , 0.0 , T)\n",
    "    return T\n",
    " "
   ]
  }
 ],
 "metadata": {
  "kernelspec": {
   "display_name": "Python 3 (ipykernel)",
   "language": "python",
   "name": "python3"
  },
  "language_info": {
   "codemirror_mode": {
    "name": "ipython",
    "version": 3
   },
   "file_extension": ".py",
   "mimetype": "text/x-python",
   "name": "python",
   "nbconvert_exporter": "python",
   "pygments_lexer": "ipython3",
   "version": "3.8.18"
  }
 },
 "nbformat": 4,
 "nbformat_minor": 5
}
