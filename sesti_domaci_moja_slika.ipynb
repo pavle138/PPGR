{
 "cells": [
  {
   "cell_type": "code",
   "execution_count": 2,
   "id": "3e11bf88",
   "metadata": {},
   "outputs": [],
   "source": [
    "import numpy\n",
    "import numpy as np\n",
    "import math\n",
    "import plotly.graph_objects as go\n",
    "import plotly.express as px"
   ]
  },
  {
   "cell_type": "code",
   "execution_count": 79,
   "id": "e84c4ea6-69ae-49f5-8ffe-c4dafc7027ea",
   "metadata": {},
   "outputs": [],
   "source": [
    "def piksel(koord): #Odredjivanje piksel koordinata tacke\n",
    "    return np.array([1,-1,-1])*(np.array([4032,0,0])-koord) #promeni 1600 za sliku"
   ]
  },
  {
   "cell_type": "code",
   "execution_count": 80,
   "id": "fe67408a-b957-4fc4-a50e-e374a7768ccb",
   "metadata": {},
   "outputs": [],
   "source": [
    "def fundJed(xl,xd): #Odredjivanje jednacina za fundamentalnu matricu\n",
    "    return np.array([xl[0]*xd[0],xl[1]*xd[0],xl[2]*xd[0],xl[0]*xd[1],xl[1]*xd[1],xl[2]*xd[1],xl[0]*xd[2],xl[1]*xd[2],xl[2]*xd[2]])"
   ]
  },
  {
   "cell_type": "code",
   "execution_count": 81,
   "id": "dac73f49-5034-47a9-9c60-a01d4e8c85e7",
   "metadata": {},
   "outputs": [],
   "source": [
    "def fundamentalnaMatrica(leve,desne): #Odredjivanje fundamentalne matrice f\n",
    "    a=[]\n",
    "    for x,xp in zip(leve,desne):\n",
    "        jed= fundJed(x,xp)\n",
    "        a.append(jed)\n",
    "    a = np.array(a)\n",
    "    U, D, V = np.linalg.svd(a)\n",
    "    f = V[-1]\n",
    "    f = f.reshape(3,3)\n",
    "    return f"
   ]
  },
  {
   "cell_type": "code",
   "execution_count": 82,
   "id": "a162d4ef",
   "metadata": {},
   "outputs": [],
   "source": [
    "def popravka(f):\n",
    "    U, S, V = np.linalg.svd(f)\n",
    "    S = np.array([[S[0], 0, 0],\n",
    "                  [0, S[1], 0],\n",
    "                  [0, 0, 0]])\n",
    "    FF1 = U@S@V\n",
    "    if np.linalg.det(f) > np.linalg.det(FF1):\n",
    "        return FF1\n",
    "    return FF"
   ]
  },
  {
   "cell_type": "code",
   "execution_count": 83,
   "id": "1f234819-bbc5-49eb-8e0d-53bb8d607cb1",
   "metadata": {},
   "outputs": [],
   "source": [
    "def skew2v(EC): #Uzima vektor iz kososimetricne matrice \n",
    "    return np.array([EC[2][1],EC[0][2],EC[1][0]])"
   ]
  },
  {
   "cell_type": "code",
   "execution_count": 84,
   "id": "8b6b86d8-01e4-4017-8cdc-7650251da7aa",
   "metadata": {},
   "outputs": [],
   "source": [
    "def dekomponuj(e): #Dekompozicija osnove matrice E\n",
    "    q0=np.array([[0,-1,0],[1,0,0],[0,0,1]])\n",
    "    e0=np.array([[0,1,0],[-1,0,0],[0,0,0]])\n",
    "    U,S,V=np.linalg.svd(e)\n",
    "    EC=U@e0@np.transpose(U)\n",
    "    A=U@q0@V #probaj verziju bez transponovanih q0,v ako nesto ne valja\n",
    "    return A,skew2v(EC) #skew2v mozda vrati suprotan znak, stavi mu minus ako ne valja"
   ]
  },
  {
   "cell_type": "code",
   "execution_count": 85,
   "id": "9a7df840-fe89-4168-835a-f8ab3e3ea469",
   "metadata": {},
   "outputs": [],
   "source": [
    "def kamera1(e): #Matrica kamere u koordinatnom sistemu druge kamere\n",
    "    A,C=dekomponuj(e)\n",
    "    C=K1 @ -np.transpose(A) @ C\n",
    "    A=K1 @ np.transpose(A)\n",
    "    A1=np.concatenate((np.transpose(A),[C]),axis=0) #append A.T,C\n",
    "    return np.transpose(A1)"
   ]
  },
  {
   "cell_type": "code",
   "execution_count": 86,
   "id": "e3e8b238-5847-4906-90ee-b4850684a44f",
   "metadata": {},
   "outputs": [],
   "source": [
    "def triangulisi(T1,T2,pt1,pt2): #Triangulacija tacaka sa fotografije\n",
    "    a=np.array([pt1[1]*T1[2,:]-pt1[2]*T1[1,:],\n",
    "                -pt1[0]*T1[2,:]+pt1[2]*T1[0,:],\n",
    "                pt2[1]*T2[2,:]-pt2[2]*T2[1,:],\n",
    "                -pt2[0]*T2[2,:]+pt2[2]*T2[0,:]]) #ima na slajdovima\n",
    "    U,S,V=np.linalg.svd(a)\n",
    "    pt=V[3] # valjda moze -1\n",
    "    pt=(1/pt[3])*pt\n",
    "    pt=np.where(pt==0,0.0,pt)\n",
    "    return np.array(pt)"
   ]
  },
  {
   "cell_type": "code",
   "execution_count": 87,
   "id": "aa101d42-9ed7-4d1d-a503-6186f85c9470",
   "metadata": {},
   "outputs": [],
   "source": [
    "def recPts(c1,c2,pts1,pts2):\n",
    "    a=[]\n",
    "    for x,xp in zip(pts1,pts2):\n",
    "        X=triangulisi(c1,c2,x,xp)\n",
    "        X=np.delete(X,-1)\n",
    "        a.append(X)\n",
    "    a = np.array(a)\n",
    "    return a"
   ]
  },
  {
   "cell_type": "code",
   "execution_count": 112,
   "id": "25dde0dd-b3bc-4ee7-b404-8b9a9a9da4ff",
   "metadata": {},
   "outputs": [
    {
     "name": "stdout",
     "output_type": "stream",
     "text": [
      "f:\n",
      "[[ 1.64136303e-07 -7.52086881e-07  2.90249588e-04]\n",
      " [ 9.63007851e-07  5.25602575e-07 -1.38568768e-03]\n",
      " [-1.01888262e-03  1.89099533e-04  9.99998461e-01]]\n",
      "e:\n",
      "[[ 1.42839618 -6.54503608 -0.2842104 ]\n",
      " [ 8.38057582  4.57405641  3.11862496]\n",
      " [ 0.68064068 -2.43576415 -0.05936285]]\n",
      "A:\n",
      "[[-0.71992293 -0.28511604 -0.63278734]\n",
      " [ 0.37092179 -0.92865724 -0.00357154]\n",
      " [-0.58662424 -0.23728584  0.7743174 ]]\n",
      "E0:\n",
      "[ 0.35783798  0.01483866 -0.93366578]\n",
      "T1:\n",
      "[[-3.39947192e+03  1.08701906e+03 -1.69517634e+02  1.04205745e+03]\n",
      " [-1.44477145e+03 -2.74294611e+03  3.87055575e+01  5.93833795e+02]\n",
      " [-6.32787337e-01 -3.57153856e-03  7.74317397e-01  9.49441998e-01]]\n",
      "T2:\n",
      "[[2950    0 2016    0]\n",
      " [   0 2316  954    0]\n",
      " [   0    0    1    0]]\n"
     ]
    },
    {
     "data": {
      "text/plain": [
       "array([[-0.16244001,  0.1838065 , -0.54091919],\n",
       "       [-0.07665043,  0.09629125, -0.4686147 ],\n",
       "       [-0.24238189,  0.05521337, -0.5247099 ],\n",
       "       [-0.3422543 ,  0.17256748, -0.60778986],\n",
       "       [-0.15872825,  0.06323142, -0.57427889],\n",
       "       [-0.0648388 , -0.02840533, -0.5702028 ],\n",
       "       [-0.19022198, -0.08946153, -0.64607948],\n",
       "       [-0.30280977,  0.01451568, -0.63709171],\n",
       "       [-0.16849622,  0.15617263, -0.56953837],\n",
       "       [ 0.17843351,  0.00737493, -0.53460165],\n",
       "       [ 0.18415684, -0.07560002, -0.38794365],\n",
       "       [ 0.01344155, -0.12962962, -0.43495905],\n",
       "       [-0.02942179, -0.01385822, -0.49867472],\n",
       "       [ 0.13239653,  0.04680076, -0.38366708],\n",
       "       [ 0.22281462, -0.03138453, -0.43067786],\n",
       "       [ 0.02191012, -0.0777124 , -0.39919988],\n",
       "       [-0.02279911,  0.03461022, -0.47694986]])"
      ]
     },
     "execution_count": 112,
     "metadata": {},
     "output_type": "execute_result"
    }
   ],
   "source": [
    "K1=np.array([[2950,0,2016],[0,2950,954],[0,0,1]])\n",
    "kam2=np.array([[2950,0,2016,0],\n",
    "             [0,2316,954,0],\n",
    "             [0,0,1,0]])\n",
    "tacke1=np.array([[1058, 381, 1],\n",
    "                [1686, 596, 1],\n",
    "                [1108, 1007, 1],\n",
    "                [424, 707, 1],\n",
    "                [2780, 462, 1],\n",
    "                [3346, 741, 1],\n",
    "                [2513, 1211, 1], \n",
    "                [1935, 809, 1]])\n",
    "tacke2=np.array([[1080, 301, 1],\n",
    "                [1503, 592, 1],\n",
    "                [639, 890, 1],\n",
    "                [309, 502, 1],\n",
    "                [3046, 666, 1],\n",
    "                [3556, 1096, 1],\n",
    "                [2180, 1409, 1],\n",
    "                [1866, 875, 1]])\n",
    "all1p=np.array([[1106, 889, 1],\n",
    "                [1553, 1248, 1],\n",
    "                [830,1597, 1],\n",
    "                [506,1161, 1],\n",
    "                [967,456, 1],\n",
    "                [2761, 682, 1],\n",
    "                [3266,992 ,1],\n",
    "                [2451,1489,1],\n",
    "                [1917,1063,1]])\n",
    "all2p=np.array([[1176, 903, 1],\n",
    "                [1694, 1217, 1],\n",
    "                [1204,1688, 1],\n",
    "                [603,1367, 1],\n",
    "                [1074,545, 1],\n",
    "                [3001, 940, 1],\n",
    "                [3444,1390 ,1],\n",
    "                [2152,1708,1],\n",
    "                [1850,1123,1]])\n",
    "allL=np.concatenate((tacke1[0:4],all1p),axis=0)\n",
    "allD=np.concatenate((tacke2[0:4],all2p),axis=0)\n",
    "allL=np.concatenate((allL,tacke1[4:]),axis=0)\n",
    "allD=np.concatenate((allD,tacke2[4:]),axis=0)\n",
    "#fundamentalna matrica\n",
    "f=fundamentalnaMatrica(piksel(tacke1),piksel(tacke2))\n",
    "f=popravka(f)\n",
    "#osnovna matrica\n",
    "e=np.transpose(K1)@f@K1\n",
    "print(\"f:\")\n",
    "print(f)\n",
    "print(\"e:\")\n",
    "print(e)\n",
    "A,E0=dekomponuj(e)\n",
    "print(\"A:\")\n",
    "print(A)\n",
    "print(\"E0:\")\n",
    "print(E0)\n",
    "print(\"T1:\")\n",
    "print(kamera1(e))\n",
    "print(\"T2:\")\n",
    "print(kam2)\n",
    "pts3D=recPts(kamera1(e),kam2,piksel(allL),piksel(allD))\n",
    "pts3D"
   ]
  },
  {
   "cell_type": "code",
   "execution_count": 109,
   "id": "8c22acb2",
   "metadata": {},
   "outputs": [
    {
     "data": {
      "application/vnd.plotly.v1+json": {
       "config": {
        "plotlyServerURL": "https://plot.ly"
       },
       "data": [
        {
         "type": "scatter3d",
         "x": [
          -0.16243730183021793,
          -0.07664805026371922
         ],
         "y": [
          0.18386851337301155,
          0.09634679475470968
         ],
         "z": [
          -0.5409609827704591,
          -0.4686643452200859
         ]
        },
        {
         "type": "scatter3d",
         "x": [
          -0.16243730183021793,
          -0.3422616618249864
         ],
         "y": [
          0.18386851337301155,
          0.17264195031856777
         ],
         "z": [
          -0.5409609827704591,
          -0.6078260464396187
         ]
        },
        {
         "type": "scatter3d",
         "x": [
          -0.16243730183021793,
          -0.1587301766572924
         ],
         "y": [
          0.18386851337301155,
          0.06329207219311973
         ],
         "z": [
          -0.5409609827704591,
          -0.5743136394436321
         ]
        },
        {
         "type": "scatter3d",
         "x": [
          -0.24239182952896973,
          -0.3422616618249864
         ],
         "y": [
          0.055278933434877754,
          0.17264195031856777
         ],
         "z": [
          -0.524743133378612,
          -0.6078260464396187
         ]
        },
        {
         "type": "scatter3d",
         "x": [
          -0.24239182952896973,
          -0.07664805026371922
         ],
         "y": [
          0.055278933434877754,
          0.09634679475470968
         ],
         "z": [
          -0.524743133378612,
          -0.4686643452200859
         ]
        },
        {
         "type": "scatter3d",
         "x": [
          -0.24239182952896973,
          -0.1902297615344227
         ],
         "y": [
          0.055278933434877754,
          -0.08939941475442498
         ],
         "z": [
          -0.524743133378612,
          -0.646103795866862
         ]
        },
        {
         "type": "scatter3d",
         "x": [
          -0.06484366362546458,
          -0.1902297615344227
         ],
         "y": [
          -0.02834940830147218,
          -0.08939941475442498
         ],
         "z": [
          -0.5702295903518276,
          -0.646103795866862
         ]
        },
        {
         "type": "scatter3d",
         "x": [
          -0.06484366362546458,
          -0.1587301766572924
         ],
         "y": [
          -0.02834940830147218,
          0.06329207219311973
         ],
         "z": [
          -0.5702295903518276,
          -0.5743136394436321
         ]
        },
        {
         "type": "scatter3d",
         "x": [
          -0.06484366362546458,
          -0.07664805026371922
         ],
         "y": [
          -0.02834940830147218,
          0.09634679475470968
         ],
         "z": [
          -0.5702295903518276,
          -0.4686643452200859
         ]
        },
        {
         "type": "scatter3d",
         "x": [
          -0.3028179769506705,
          -0.1902297615344227
         ],
         "y": [
          0.014583902406007638,
          -0.08939941475442498
         ],
         "z": [
          -0.6371227083891889,
          -0.646103795866862
         ]
        },
        {
         "type": "scatter3d",
         "x": [
          -0.3028179769506705,
          -0.3422616618249864
         ],
         "y": [
          0.014583902406007638,
          0.17264195031856777
         ],
         "z": [
          -0.6371227083891889,
          -0.6078260464396187
         ]
        },
        {
         "type": "scatter3d",
         "x": [
          -0.3028179769506705,
          -0.1587301766572924
         ],
         "y": [
          0.014583902406007638,
          0.06329207219311973
         ],
         "z": [
          -0.6371227083891889,
          -0.5743136394436321
         ]
        },
        {
         "type": "scatter3d",
         "x": [
          0.17850117525672907,
          0.18406305399684775
         ],
         "y": [
          0.0074198005990346386,
          -0.07556580127211696
         ],
         "z": [
          -0.5348027900936646,
          -0.3877561714294211
         ]
        },
        {
         "type": "scatter3d",
         "x": [
          0.17850117525672907,
          -0.029425541983952766
         ],
         "y": [
          0.0074198005990346386,
          -0.013804875464266935
         ],
         "z": [
          -0.5348027900936646,
          -0.4987078704745073
         ]
        },
        {
         "type": "scatter3d",
         "x": [
          0.17850117525672907,
          0.13253556493710622
         ],
         "y": [
          0.0074198005990346386,
          0.046849614683109386
         ],
         "z": [
          -0.5348027900936646,
          -0.3840661429919858
         ]
        },
        {
         "type": "scatter3d",
         "x": [
          0.01341702595231621,
          -0.029425541983952766
         ],
         "y": [
          -0.12957938894809756,
          -0.013804875464266935
         ],
         "z": [
          -0.4349483972087642,
          -0.4987078704745073
         ]
        },
        {
         "type": "scatter3d",
         "x": [
          0.01341702595231621,
          0.18406305399684775
         ],
         "y": [
          -0.12957938894809756,
          -0.07556580127211696
         ],
         "z": [
          -0.4349483972087642,
          -0.3877561714294211
         ]
        },
        {
         "type": "scatter3d",
         "x": [
          0.01341702595231621,
          0.021890626834998376
         ],
         "y": [
          -0.12957938894809756,
          -0.07766293267139311
         ],
         "z": [
          -0.4349483972087642,
          -0.3992003693600074
         ]
        },
        {
         "type": "scatter3d",
         "x": [
          0.22272796193706354,
          0.021890626834998376
         ],
         "y": [
          -0.03135261533886806,
          -0.07766293267139311
         ],
         "z": [
          -0.43049612546233273,
          -0.3992003693600074
         ]
        },
        {
         "type": "scatter3d",
         "x": [
          0.22272796193706354,
          0.13253556493710622
         ],
         "y": [
          -0.03135261533886806,
          0.046849614683109386
         ],
         "z": [
          -0.43049612546233273,
          -0.3840661429919858
         ]
        },
        {
         "type": "scatter3d",
         "x": [
          0.22272796193706354,
          0.18406305399684775
         ],
         "y": [
          -0.03135261533886806,
          -0.07556580127211696
         ],
         "z": [
          -0.43049612546233273,
          -0.3877561714294211
         ]
        },
        {
         "type": "scatter3d",
         "x": [
          -0.022796533259281066,
          0.021890626834998376
         ],
         "y": [
          0.03466275080145497,
          -0.07766293267139311
         ],
         "z": [
          -0.4769984452706384,
          -0.3992003693600074
         ]
        },
        {
         "type": "scatter3d",
         "x": [
          -0.022796533259281066,
          -0.029425541983952766
         ],
         "y": [
          0.03466275080145497,
          -0.013804875464266935
         ],
         "z": [
          -0.4769984452706384,
          -0.4987078704745073
         ]
        },
        {
         "type": "scatter3d",
         "x": [
          -0.022796533259281066,
          0.13253556493710622
         ],
         "y": [
          0.03466275080145497,
          0.046849614683109386
         ],
         "z": [
          -0.4769984452706384,
          -0.3840661429919858
         ]
        }
       ],
       "layout": {
        "showlegend": false,
        "template": {
         "data": {
          "bar": [
           {
            "error_x": {
             "color": "#2a3f5f"
            },
            "error_y": {
             "color": "#2a3f5f"
            },
            "marker": {
             "line": {
              "color": "#E5ECF6",
              "width": 0.5
             },
             "pattern": {
              "fillmode": "overlay",
              "size": 10,
              "solidity": 0.2
             }
            },
            "type": "bar"
           }
          ],
          "barpolar": [
           {
            "marker": {
             "line": {
              "color": "#E5ECF6",
              "width": 0.5
             },
             "pattern": {
              "fillmode": "overlay",
              "size": 10,
              "solidity": 0.2
             }
            },
            "type": "barpolar"
           }
          ],
          "carpet": [
           {
            "aaxis": {
             "endlinecolor": "#2a3f5f",
             "gridcolor": "white",
             "linecolor": "white",
             "minorgridcolor": "white",
             "startlinecolor": "#2a3f5f"
            },
            "baxis": {
             "endlinecolor": "#2a3f5f",
             "gridcolor": "white",
             "linecolor": "white",
             "minorgridcolor": "white",
             "startlinecolor": "#2a3f5f"
            },
            "type": "carpet"
           }
          ],
          "choropleth": [
           {
            "colorbar": {
             "outlinewidth": 0,
             "ticks": ""
            },
            "type": "choropleth"
           }
          ],
          "contour": [
           {
            "colorbar": {
             "outlinewidth": 0,
             "ticks": ""
            },
            "colorscale": [
             [
              0,
              "#0d0887"
             ],
             [
              0.1111111111111111,
              "#46039f"
             ],
             [
              0.2222222222222222,
              "#7201a8"
             ],
             [
              0.3333333333333333,
              "#9c179e"
             ],
             [
              0.4444444444444444,
              "#bd3786"
             ],
             [
              0.5555555555555556,
              "#d8576b"
             ],
             [
              0.6666666666666666,
              "#ed7953"
             ],
             [
              0.7777777777777778,
              "#fb9f3a"
             ],
             [
              0.8888888888888888,
              "#fdca26"
             ],
             [
              1,
              "#f0f921"
             ]
            ],
            "type": "contour"
           }
          ],
          "contourcarpet": [
           {
            "colorbar": {
             "outlinewidth": 0,
             "ticks": ""
            },
            "type": "contourcarpet"
           }
          ],
          "heatmap": [
           {
            "colorbar": {
             "outlinewidth": 0,
             "ticks": ""
            },
            "colorscale": [
             [
              0,
              "#0d0887"
             ],
             [
              0.1111111111111111,
              "#46039f"
             ],
             [
              0.2222222222222222,
              "#7201a8"
             ],
             [
              0.3333333333333333,
              "#9c179e"
             ],
             [
              0.4444444444444444,
              "#bd3786"
             ],
             [
              0.5555555555555556,
              "#d8576b"
             ],
             [
              0.6666666666666666,
              "#ed7953"
             ],
             [
              0.7777777777777778,
              "#fb9f3a"
             ],
             [
              0.8888888888888888,
              "#fdca26"
             ],
             [
              1,
              "#f0f921"
             ]
            ],
            "type": "heatmap"
           }
          ],
          "heatmapgl": [
           {
            "colorbar": {
             "outlinewidth": 0,
             "ticks": ""
            },
            "colorscale": [
             [
              0,
              "#0d0887"
             ],
             [
              0.1111111111111111,
              "#46039f"
             ],
             [
              0.2222222222222222,
              "#7201a8"
             ],
             [
              0.3333333333333333,
              "#9c179e"
             ],
             [
              0.4444444444444444,
              "#bd3786"
             ],
             [
              0.5555555555555556,
              "#d8576b"
             ],
             [
              0.6666666666666666,
              "#ed7953"
             ],
             [
              0.7777777777777778,
              "#fb9f3a"
             ],
             [
              0.8888888888888888,
              "#fdca26"
             ],
             [
              1,
              "#f0f921"
             ]
            ],
            "type": "heatmapgl"
           }
          ],
          "histogram": [
           {
            "marker": {
             "pattern": {
              "fillmode": "overlay",
              "size": 10,
              "solidity": 0.2
             }
            },
            "type": "histogram"
           }
          ],
          "histogram2d": [
           {
            "colorbar": {
             "outlinewidth": 0,
             "ticks": ""
            },
            "colorscale": [
             [
              0,
              "#0d0887"
             ],
             [
              0.1111111111111111,
              "#46039f"
             ],
             [
              0.2222222222222222,
              "#7201a8"
             ],
             [
              0.3333333333333333,
              "#9c179e"
             ],
             [
              0.4444444444444444,
              "#bd3786"
             ],
             [
              0.5555555555555556,
              "#d8576b"
             ],
             [
              0.6666666666666666,
              "#ed7953"
             ],
             [
              0.7777777777777778,
              "#fb9f3a"
             ],
             [
              0.8888888888888888,
              "#fdca26"
             ],
             [
              1,
              "#f0f921"
             ]
            ],
            "type": "histogram2d"
           }
          ],
          "histogram2dcontour": [
           {
            "colorbar": {
             "outlinewidth": 0,
             "ticks": ""
            },
            "colorscale": [
             [
              0,
              "#0d0887"
             ],
             [
              0.1111111111111111,
              "#46039f"
             ],
             [
              0.2222222222222222,
              "#7201a8"
             ],
             [
              0.3333333333333333,
              "#9c179e"
             ],
             [
              0.4444444444444444,
              "#bd3786"
             ],
             [
              0.5555555555555556,
              "#d8576b"
             ],
             [
              0.6666666666666666,
              "#ed7953"
             ],
             [
              0.7777777777777778,
              "#fb9f3a"
             ],
             [
              0.8888888888888888,
              "#fdca26"
             ],
             [
              1,
              "#f0f921"
             ]
            ],
            "type": "histogram2dcontour"
           }
          ],
          "mesh3d": [
           {
            "colorbar": {
             "outlinewidth": 0,
             "ticks": ""
            },
            "type": "mesh3d"
           }
          ],
          "parcoords": [
           {
            "line": {
             "colorbar": {
              "outlinewidth": 0,
              "ticks": ""
             }
            },
            "type": "parcoords"
           }
          ],
          "pie": [
           {
            "automargin": true,
            "type": "pie"
           }
          ],
          "scatter": [
           {
            "fillpattern": {
             "fillmode": "overlay",
             "size": 10,
             "solidity": 0.2
            },
            "type": "scatter"
           }
          ],
          "scatter3d": [
           {
            "line": {
             "colorbar": {
              "outlinewidth": 0,
              "ticks": ""
             }
            },
            "marker": {
             "colorbar": {
              "outlinewidth": 0,
              "ticks": ""
             }
            },
            "type": "scatter3d"
           }
          ],
          "scattercarpet": [
           {
            "marker": {
             "colorbar": {
              "outlinewidth": 0,
              "ticks": ""
             }
            },
            "type": "scattercarpet"
           }
          ],
          "scattergeo": [
           {
            "marker": {
             "colorbar": {
              "outlinewidth": 0,
              "ticks": ""
             }
            },
            "type": "scattergeo"
           }
          ],
          "scattergl": [
           {
            "marker": {
             "colorbar": {
              "outlinewidth": 0,
              "ticks": ""
             }
            },
            "type": "scattergl"
           }
          ],
          "scattermapbox": [
           {
            "marker": {
             "colorbar": {
              "outlinewidth": 0,
              "ticks": ""
             }
            },
            "type": "scattermapbox"
           }
          ],
          "scatterpolar": [
           {
            "marker": {
             "colorbar": {
              "outlinewidth": 0,
              "ticks": ""
             }
            },
            "type": "scatterpolar"
           }
          ],
          "scatterpolargl": [
           {
            "marker": {
             "colorbar": {
              "outlinewidth": 0,
              "ticks": ""
             }
            },
            "type": "scatterpolargl"
           }
          ],
          "scatterternary": [
           {
            "marker": {
             "colorbar": {
              "outlinewidth": 0,
              "ticks": ""
             }
            },
            "type": "scatterternary"
           }
          ],
          "surface": [
           {
            "colorbar": {
             "outlinewidth": 0,
             "ticks": ""
            },
            "colorscale": [
             [
              0,
              "#0d0887"
             ],
             [
              0.1111111111111111,
              "#46039f"
             ],
             [
              0.2222222222222222,
              "#7201a8"
             ],
             [
              0.3333333333333333,
              "#9c179e"
             ],
             [
              0.4444444444444444,
              "#bd3786"
             ],
             [
              0.5555555555555556,
              "#d8576b"
             ],
             [
              0.6666666666666666,
              "#ed7953"
             ],
             [
              0.7777777777777778,
              "#fb9f3a"
             ],
             [
              0.8888888888888888,
              "#fdca26"
             ],
             [
              1,
              "#f0f921"
             ]
            ],
            "type": "surface"
           }
          ],
          "table": [
           {
            "cells": {
             "fill": {
              "color": "#EBF0F8"
             },
             "line": {
              "color": "white"
             }
            },
            "header": {
             "fill": {
              "color": "#C8D4E3"
             },
             "line": {
              "color": "white"
             }
            },
            "type": "table"
           }
          ]
         },
         "layout": {
          "annotationdefaults": {
           "arrowcolor": "#2a3f5f",
           "arrowhead": 0,
           "arrowwidth": 1
          },
          "autotypenumbers": "strict",
          "coloraxis": {
           "colorbar": {
            "outlinewidth": 0,
            "ticks": ""
           }
          },
          "colorscale": {
           "diverging": [
            [
             0,
             "#8e0152"
            ],
            [
             0.1,
             "#c51b7d"
            ],
            [
             0.2,
             "#de77ae"
            ],
            [
             0.3,
             "#f1b6da"
            ],
            [
             0.4,
             "#fde0ef"
            ],
            [
             0.5,
             "#f7f7f7"
            ],
            [
             0.6,
             "#e6f5d0"
            ],
            [
             0.7,
             "#b8e186"
            ],
            [
             0.8,
             "#7fbc41"
            ],
            [
             0.9,
             "#4d9221"
            ],
            [
             1,
             "#276419"
            ]
           ],
           "sequential": [
            [
             0,
             "#0d0887"
            ],
            [
             0.1111111111111111,
             "#46039f"
            ],
            [
             0.2222222222222222,
             "#7201a8"
            ],
            [
             0.3333333333333333,
             "#9c179e"
            ],
            [
             0.4444444444444444,
             "#bd3786"
            ],
            [
             0.5555555555555556,
             "#d8576b"
            ],
            [
             0.6666666666666666,
             "#ed7953"
            ],
            [
             0.7777777777777778,
             "#fb9f3a"
            ],
            [
             0.8888888888888888,
             "#fdca26"
            ],
            [
             1,
             "#f0f921"
            ]
           ],
           "sequentialminus": [
            [
             0,
             "#0d0887"
            ],
            [
             0.1111111111111111,
             "#46039f"
            ],
            [
             0.2222222222222222,
             "#7201a8"
            ],
            [
             0.3333333333333333,
             "#9c179e"
            ],
            [
             0.4444444444444444,
             "#bd3786"
            ],
            [
             0.5555555555555556,
             "#d8576b"
            ],
            [
             0.6666666666666666,
             "#ed7953"
            ],
            [
             0.7777777777777778,
             "#fb9f3a"
            ],
            [
             0.8888888888888888,
             "#fdca26"
            ],
            [
             1,
             "#f0f921"
            ]
           ]
          },
          "colorway": [
           "#636efa",
           "#EF553B",
           "#00cc96",
           "#ab63fa",
           "#FFA15A",
           "#19d3f3",
           "#FF6692",
           "#B6E880",
           "#FF97FF",
           "#FECB52"
          ],
          "font": {
           "color": "#2a3f5f"
          },
          "geo": {
           "bgcolor": "white",
           "lakecolor": "white",
           "landcolor": "#E5ECF6",
           "showlakes": true,
           "showland": true,
           "subunitcolor": "white"
          },
          "hoverlabel": {
           "align": "left"
          },
          "hovermode": "closest",
          "mapbox": {
           "style": "light"
          },
          "paper_bgcolor": "white",
          "plot_bgcolor": "#E5ECF6",
          "polar": {
           "angularaxis": {
            "gridcolor": "white",
            "linecolor": "white",
            "ticks": ""
           },
           "bgcolor": "#E5ECF6",
           "radialaxis": {
            "gridcolor": "white",
            "linecolor": "white",
            "ticks": ""
           }
          },
          "scene": {
           "xaxis": {
            "backgroundcolor": "#E5ECF6",
            "gridcolor": "white",
            "gridwidth": 2,
            "linecolor": "white",
            "showbackground": true,
            "ticks": "",
            "zerolinecolor": "white"
           },
           "yaxis": {
            "backgroundcolor": "#E5ECF6",
            "gridcolor": "white",
            "gridwidth": 2,
            "linecolor": "white",
            "showbackground": true,
            "ticks": "",
            "zerolinecolor": "white"
           },
           "zaxis": {
            "backgroundcolor": "#E5ECF6",
            "gridcolor": "white",
            "gridwidth": 2,
            "linecolor": "white",
            "showbackground": true,
            "ticks": "",
            "zerolinecolor": "white"
           }
          },
          "shapedefaults": {
           "line": {
            "color": "#2a3f5f"
           }
          },
          "ternary": {
           "aaxis": {
            "gridcolor": "white",
            "linecolor": "white",
            "ticks": ""
           },
           "baxis": {
            "gridcolor": "white",
            "linecolor": "white",
            "ticks": ""
           },
           "bgcolor": "#E5ECF6",
           "caxis": {
            "gridcolor": "white",
            "linecolor": "white",
            "ticks": ""
           }
          },
          "title": {
           "x": 0.05
          },
          "xaxis": {
           "automargin": true,
           "gridcolor": "white",
           "linecolor": "white",
           "ticks": "",
           "title": {
            "standoff": 15
           },
           "zerolinecolor": "white",
           "zerolinewidth": 2
          },
          "yaxis": {
           "automargin": true,
           "gridcolor": "white",
           "linecolor": "white",
           "ticks": "",
           "title": {
            "standoff": 15
           },
           "zerolinecolor": "white",
           "zerolinewidth": 2
          }
         }
        }
       }
      },
      "text/html": [
       "<div>                            <div id=\"8a9def5a-6c12-453a-b2fa-a2ee1ba88249\" class=\"plotly-graph-div\" style=\"height:525px; width:100%;\"></div>            <script type=\"text/javascript\">                require([\"plotly\"], function(Plotly) {                    window.PLOTLYENV=window.PLOTLYENV || {};                                    if (document.getElementById(\"8a9def5a-6c12-453a-b2fa-a2ee1ba88249\")) {                    Plotly.newPlot(                        \"8a9def5a-6c12-453a-b2fa-a2ee1ba88249\",                        [{\"x\":[-0.16243730183021793,-0.07664805026371922],\"y\":[0.18386851337301155,0.09634679475470968],\"z\":[-0.5409609827704591,-0.4686643452200859],\"type\":\"scatter3d\"},{\"x\":[-0.16243730183021793,-0.3422616618249864],\"y\":[0.18386851337301155,0.17264195031856777],\"z\":[-0.5409609827704591,-0.6078260464396187],\"type\":\"scatter3d\"},{\"x\":[-0.16243730183021793,-0.1587301766572924],\"y\":[0.18386851337301155,0.06329207219311973],\"z\":[-0.5409609827704591,-0.5743136394436321],\"type\":\"scatter3d\"},{\"x\":[-0.24239182952896973,-0.3422616618249864],\"y\":[0.055278933434877754,0.17264195031856777],\"z\":[-0.524743133378612,-0.6078260464396187],\"type\":\"scatter3d\"},{\"x\":[-0.24239182952896973,-0.07664805026371922],\"y\":[0.055278933434877754,0.09634679475470968],\"z\":[-0.524743133378612,-0.4686643452200859],\"type\":\"scatter3d\"},{\"x\":[-0.24239182952896973,-0.1902297615344227],\"y\":[0.055278933434877754,-0.08939941475442498],\"z\":[-0.524743133378612,-0.646103795866862],\"type\":\"scatter3d\"},{\"x\":[-0.06484366362546458,-0.1902297615344227],\"y\":[-0.02834940830147218,-0.08939941475442498],\"z\":[-0.5702295903518276,-0.646103795866862],\"type\":\"scatter3d\"},{\"x\":[-0.06484366362546458,-0.1587301766572924],\"y\":[-0.02834940830147218,0.06329207219311973],\"z\":[-0.5702295903518276,-0.5743136394436321],\"type\":\"scatter3d\"},{\"x\":[-0.06484366362546458,-0.07664805026371922],\"y\":[-0.02834940830147218,0.09634679475470968],\"z\":[-0.5702295903518276,-0.4686643452200859],\"type\":\"scatter3d\"},{\"x\":[-0.3028179769506705,-0.1902297615344227],\"y\":[0.014583902406007638,-0.08939941475442498],\"z\":[-0.6371227083891889,-0.646103795866862],\"type\":\"scatter3d\"},{\"x\":[-0.3028179769506705,-0.3422616618249864],\"y\":[0.014583902406007638,0.17264195031856777],\"z\":[-0.6371227083891889,-0.6078260464396187],\"type\":\"scatter3d\"},{\"x\":[-0.3028179769506705,-0.1587301766572924],\"y\":[0.014583902406007638,0.06329207219311973],\"z\":[-0.6371227083891889,-0.5743136394436321],\"type\":\"scatter3d\"},{\"x\":[0.17850117525672907,0.18406305399684775],\"y\":[0.0074198005990346386,-0.07556580127211696],\"z\":[-0.5348027900936646,-0.3877561714294211],\"type\":\"scatter3d\"},{\"x\":[0.17850117525672907,-0.029425541983952766],\"y\":[0.0074198005990346386,-0.013804875464266935],\"z\":[-0.5348027900936646,-0.4987078704745073],\"type\":\"scatter3d\"},{\"x\":[0.17850117525672907,0.13253556493710622],\"y\":[0.0074198005990346386,0.046849614683109386],\"z\":[-0.5348027900936646,-0.3840661429919858],\"type\":\"scatter3d\"},{\"x\":[0.01341702595231621,-0.029425541983952766],\"y\":[-0.12957938894809756,-0.013804875464266935],\"z\":[-0.4349483972087642,-0.4987078704745073],\"type\":\"scatter3d\"},{\"x\":[0.01341702595231621,0.18406305399684775],\"y\":[-0.12957938894809756,-0.07556580127211696],\"z\":[-0.4349483972087642,-0.3877561714294211],\"type\":\"scatter3d\"},{\"x\":[0.01341702595231621,0.021890626834998376],\"y\":[-0.12957938894809756,-0.07766293267139311],\"z\":[-0.4349483972087642,-0.3992003693600074],\"type\":\"scatter3d\"},{\"x\":[0.22272796193706354,0.021890626834998376],\"y\":[-0.03135261533886806,-0.07766293267139311],\"z\":[-0.43049612546233273,-0.3992003693600074],\"type\":\"scatter3d\"},{\"x\":[0.22272796193706354,0.13253556493710622],\"y\":[-0.03135261533886806,0.046849614683109386],\"z\":[-0.43049612546233273,-0.3840661429919858],\"type\":\"scatter3d\"},{\"x\":[0.22272796193706354,0.18406305399684775],\"y\":[-0.03135261533886806,-0.07556580127211696],\"z\":[-0.43049612546233273,-0.3877561714294211],\"type\":\"scatter3d\"},{\"x\":[-0.022796533259281066,0.021890626834998376],\"y\":[0.03466275080145497,-0.07766293267139311],\"z\":[-0.4769984452706384,-0.3992003693600074],\"type\":\"scatter3d\"},{\"x\":[-0.022796533259281066,-0.029425541983952766],\"y\":[0.03466275080145497,-0.013804875464266935],\"z\":[-0.4769984452706384,-0.4987078704745073],\"type\":\"scatter3d\"},{\"x\":[-0.022796533259281066,0.13253556493710622],\"y\":[0.03466275080145497,0.046849614683109386],\"z\":[-0.4769984452706384,-0.3840661429919858],\"type\":\"scatter3d\"}],                        {\"template\":{\"data\":{\"histogram2dcontour\":[{\"type\":\"histogram2dcontour\",\"colorbar\":{\"outlinewidth\":0,\"ticks\":\"\"},\"colorscale\":[[0.0,\"#0d0887\"],[0.1111111111111111,\"#46039f\"],[0.2222222222222222,\"#7201a8\"],[0.3333333333333333,\"#9c179e\"],[0.4444444444444444,\"#bd3786\"],[0.5555555555555556,\"#d8576b\"],[0.6666666666666666,\"#ed7953\"],[0.7777777777777778,\"#fb9f3a\"],[0.8888888888888888,\"#fdca26\"],[1.0,\"#f0f921\"]]}],\"choropleth\":[{\"type\":\"choropleth\",\"colorbar\":{\"outlinewidth\":0,\"ticks\":\"\"}}],\"histogram2d\":[{\"type\":\"histogram2d\",\"colorbar\":{\"outlinewidth\":0,\"ticks\":\"\"},\"colorscale\":[[0.0,\"#0d0887\"],[0.1111111111111111,\"#46039f\"],[0.2222222222222222,\"#7201a8\"],[0.3333333333333333,\"#9c179e\"],[0.4444444444444444,\"#bd3786\"],[0.5555555555555556,\"#d8576b\"],[0.6666666666666666,\"#ed7953\"],[0.7777777777777778,\"#fb9f3a\"],[0.8888888888888888,\"#fdca26\"],[1.0,\"#f0f921\"]]}],\"heatmap\":[{\"type\":\"heatmap\",\"colorbar\":{\"outlinewidth\":0,\"ticks\":\"\"},\"colorscale\":[[0.0,\"#0d0887\"],[0.1111111111111111,\"#46039f\"],[0.2222222222222222,\"#7201a8\"],[0.3333333333333333,\"#9c179e\"],[0.4444444444444444,\"#bd3786\"],[0.5555555555555556,\"#d8576b\"],[0.6666666666666666,\"#ed7953\"],[0.7777777777777778,\"#fb9f3a\"],[0.8888888888888888,\"#fdca26\"],[1.0,\"#f0f921\"]]}],\"heatmapgl\":[{\"type\":\"heatmapgl\",\"colorbar\":{\"outlinewidth\":0,\"ticks\":\"\"},\"colorscale\":[[0.0,\"#0d0887\"],[0.1111111111111111,\"#46039f\"],[0.2222222222222222,\"#7201a8\"],[0.3333333333333333,\"#9c179e\"],[0.4444444444444444,\"#bd3786\"],[0.5555555555555556,\"#d8576b\"],[0.6666666666666666,\"#ed7953\"],[0.7777777777777778,\"#fb9f3a\"],[0.8888888888888888,\"#fdca26\"],[1.0,\"#f0f921\"]]}],\"contourcarpet\":[{\"type\":\"contourcarpet\",\"colorbar\":{\"outlinewidth\":0,\"ticks\":\"\"}}],\"contour\":[{\"type\":\"contour\",\"colorbar\":{\"outlinewidth\":0,\"ticks\":\"\"},\"colorscale\":[[0.0,\"#0d0887\"],[0.1111111111111111,\"#46039f\"],[0.2222222222222222,\"#7201a8\"],[0.3333333333333333,\"#9c179e\"],[0.4444444444444444,\"#bd3786\"],[0.5555555555555556,\"#d8576b\"],[0.6666666666666666,\"#ed7953\"],[0.7777777777777778,\"#fb9f3a\"],[0.8888888888888888,\"#fdca26\"],[1.0,\"#f0f921\"]]}],\"surface\":[{\"type\":\"surface\",\"colorbar\":{\"outlinewidth\":0,\"ticks\":\"\"},\"colorscale\":[[0.0,\"#0d0887\"],[0.1111111111111111,\"#46039f\"],[0.2222222222222222,\"#7201a8\"],[0.3333333333333333,\"#9c179e\"],[0.4444444444444444,\"#bd3786\"],[0.5555555555555556,\"#d8576b\"],[0.6666666666666666,\"#ed7953\"],[0.7777777777777778,\"#fb9f3a\"],[0.8888888888888888,\"#fdca26\"],[1.0,\"#f0f921\"]]}],\"mesh3d\":[{\"type\":\"mesh3d\",\"colorbar\":{\"outlinewidth\":0,\"ticks\":\"\"}}],\"scatter\":[{\"fillpattern\":{\"fillmode\":\"overlay\",\"size\":10,\"solidity\":0.2},\"type\":\"scatter\"}],\"parcoords\":[{\"type\":\"parcoords\",\"line\":{\"colorbar\":{\"outlinewidth\":0,\"ticks\":\"\"}}}],\"scatterpolargl\":[{\"type\":\"scatterpolargl\",\"marker\":{\"colorbar\":{\"outlinewidth\":0,\"ticks\":\"\"}}}],\"bar\":[{\"error_x\":{\"color\":\"#2a3f5f\"},\"error_y\":{\"color\":\"#2a3f5f\"},\"marker\":{\"line\":{\"color\":\"#E5ECF6\",\"width\":0.5},\"pattern\":{\"fillmode\":\"overlay\",\"size\":10,\"solidity\":0.2}},\"type\":\"bar\"}],\"scattergeo\":[{\"type\":\"scattergeo\",\"marker\":{\"colorbar\":{\"outlinewidth\":0,\"ticks\":\"\"}}}],\"scatterpolar\":[{\"type\":\"scatterpolar\",\"marker\":{\"colorbar\":{\"outlinewidth\":0,\"ticks\":\"\"}}}],\"histogram\":[{\"marker\":{\"pattern\":{\"fillmode\":\"overlay\",\"size\":10,\"solidity\":0.2}},\"type\":\"histogram\"}],\"scattergl\":[{\"type\":\"scattergl\",\"marker\":{\"colorbar\":{\"outlinewidth\":0,\"ticks\":\"\"}}}],\"scatter3d\":[{\"type\":\"scatter3d\",\"line\":{\"colorbar\":{\"outlinewidth\":0,\"ticks\":\"\"}},\"marker\":{\"colorbar\":{\"outlinewidth\":0,\"ticks\":\"\"}}}],\"scattermapbox\":[{\"type\":\"scattermapbox\",\"marker\":{\"colorbar\":{\"outlinewidth\":0,\"ticks\":\"\"}}}],\"scatterternary\":[{\"type\":\"scatterternary\",\"marker\":{\"colorbar\":{\"outlinewidth\":0,\"ticks\":\"\"}}}],\"scattercarpet\":[{\"type\":\"scattercarpet\",\"marker\":{\"colorbar\":{\"outlinewidth\":0,\"ticks\":\"\"}}}],\"carpet\":[{\"aaxis\":{\"endlinecolor\":\"#2a3f5f\",\"gridcolor\":\"white\",\"linecolor\":\"white\",\"minorgridcolor\":\"white\",\"startlinecolor\":\"#2a3f5f\"},\"baxis\":{\"endlinecolor\":\"#2a3f5f\",\"gridcolor\":\"white\",\"linecolor\":\"white\",\"minorgridcolor\":\"white\",\"startlinecolor\":\"#2a3f5f\"},\"type\":\"carpet\"}],\"table\":[{\"cells\":{\"fill\":{\"color\":\"#EBF0F8\"},\"line\":{\"color\":\"white\"}},\"header\":{\"fill\":{\"color\":\"#C8D4E3\"},\"line\":{\"color\":\"white\"}},\"type\":\"table\"}],\"barpolar\":[{\"marker\":{\"line\":{\"color\":\"#E5ECF6\",\"width\":0.5},\"pattern\":{\"fillmode\":\"overlay\",\"size\":10,\"solidity\":0.2}},\"type\":\"barpolar\"}],\"pie\":[{\"automargin\":true,\"type\":\"pie\"}]},\"layout\":{\"autotypenumbers\":\"strict\",\"colorway\":[\"#636efa\",\"#EF553B\",\"#00cc96\",\"#ab63fa\",\"#FFA15A\",\"#19d3f3\",\"#FF6692\",\"#B6E880\",\"#FF97FF\",\"#FECB52\"],\"font\":{\"color\":\"#2a3f5f\"},\"hovermode\":\"closest\",\"hoverlabel\":{\"align\":\"left\"},\"paper_bgcolor\":\"white\",\"plot_bgcolor\":\"#E5ECF6\",\"polar\":{\"bgcolor\":\"#E5ECF6\",\"angularaxis\":{\"gridcolor\":\"white\",\"linecolor\":\"white\",\"ticks\":\"\"},\"radialaxis\":{\"gridcolor\":\"white\",\"linecolor\":\"white\",\"ticks\":\"\"}},\"ternary\":{\"bgcolor\":\"#E5ECF6\",\"aaxis\":{\"gridcolor\":\"white\",\"linecolor\":\"white\",\"ticks\":\"\"},\"baxis\":{\"gridcolor\":\"white\",\"linecolor\":\"white\",\"ticks\":\"\"},\"caxis\":{\"gridcolor\":\"white\",\"linecolor\":\"white\",\"ticks\":\"\"}},\"coloraxis\":{\"colorbar\":{\"outlinewidth\":0,\"ticks\":\"\"}},\"colorscale\":{\"sequential\":[[0.0,\"#0d0887\"],[0.1111111111111111,\"#46039f\"],[0.2222222222222222,\"#7201a8\"],[0.3333333333333333,\"#9c179e\"],[0.4444444444444444,\"#bd3786\"],[0.5555555555555556,\"#d8576b\"],[0.6666666666666666,\"#ed7953\"],[0.7777777777777778,\"#fb9f3a\"],[0.8888888888888888,\"#fdca26\"],[1.0,\"#f0f921\"]],\"sequentialminus\":[[0.0,\"#0d0887\"],[0.1111111111111111,\"#46039f\"],[0.2222222222222222,\"#7201a8\"],[0.3333333333333333,\"#9c179e\"],[0.4444444444444444,\"#bd3786\"],[0.5555555555555556,\"#d8576b\"],[0.6666666666666666,\"#ed7953\"],[0.7777777777777778,\"#fb9f3a\"],[0.8888888888888888,\"#fdca26\"],[1.0,\"#f0f921\"]],\"diverging\":[[0,\"#8e0152\"],[0.1,\"#c51b7d\"],[0.2,\"#de77ae\"],[0.3,\"#f1b6da\"],[0.4,\"#fde0ef\"],[0.5,\"#f7f7f7\"],[0.6,\"#e6f5d0\"],[0.7,\"#b8e186\"],[0.8,\"#7fbc41\"],[0.9,\"#4d9221\"],[1,\"#276419\"]]},\"xaxis\":{\"gridcolor\":\"white\",\"linecolor\":\"white\",\"ticks\":\"\",\"title\":{\"standoff\":15},\"zerolinecolor\":\"white\",\"automargin\":true,\"zerolinewidth\":2},\"yaxis\":{\"gridcolor\":\"white\",\"linecolor\":\"white\",\"ticks\":\"\",\"title\":{\"standoff\":15},\"zerolinecolor\":\"white\",\"automargin\":true,\"zerolinewidth\":2},\"scene\":{\"xaxis\":{\"backgroundcolor\":\"#E5ECF6\",\"gridcolor\":\"white\",\"linecolor\":\"white\",\"showbackground\":true,\"ticks\":\"\",\"zerolinecolor\":\"white\",\"gridwidth\":2},\"yaxis\":{\"backgroundcolor\":\"#E5ECF6\",\"gridcolor\":\"white\",\"linecolor\":\"white\",\"showbackground\":true,\"ticks\":\"\",\"zerolinecolor\":\"white\",\"gridwidth\":2},\"zaxis\":{\"backgroundcolor\":\"#E5ECF6\",\"gridcolor\":\"white\",\"linecolor\":\"white\",\"showbackground\":true,\"ticks\":\"\",\"zerolinecolor\":\"white\",\"gridwidth\":2}},\"shapedefaults\":{\"line\":{\"color\":\"#2a3f5f\"}},\"annotationdefaults\":{\"arrowcolor\":\"#2a3f5f\",\"arrowhead\":0,\"arrowwidth\":1},\"geo\":{\"bgcolor\":\"white\",\"landcolor\":\"#E5ECF6\",\"subunitcolor\":\"white\",\"showland\":true,\"showlakes\":true,\"lakecolor\":\"white\"},\"title\":{\"x\":0.05},\"mapbox\":{\"style\":\"light\"}}},\"showlegend\":false},                        {\"responsive\": true}                    ).then(function(){\n",
       "                            \n",
       "var gd = document.getElementById('8a9def5a-6c12-453a-b2fa-a2ee1ba88249');\n",
       "var x = new MutationObserver(function (mutations, observer) {{\n",
       "        var display = window.getComputedStyle(gd).display;\n",
       "        if (!display || display === 'none') {{\n",
       "            console.log([gd, 'removed!']);\n",
       "            Plotly.purge(gd);\n",
       "            observer.disconnect();\n",
       "        }}\n",
       "}});\n",
       "\n",
       "// Listen for the removal of the full notebook cells\n",
       "var notebookContainer = gd.closest('#notebook-container');\n",
       "if (notebookContainer) {{\n",
       "    x.observe(notebookContainer, {childList: true});\n",
       "}}\n",
       "\n",
       "// Listen for the clearing of the current output cell\n",
       "var outputEl = gd.closest('.output');\n",
       "if (outputEl) {{\n",
       "    x.observe(outputEl, {childList: true});\n",
       "}}\n",
       "\n",
       "                        })                };                });            </script>        </div>"
      ]
     },
     "metadata": {},
     "output_type": "display_data"
    }
   ],
   "source": [
    "import plotly.graph_objects as go\n",
    "import plotly.express as px\n",
    "\n",
    "# U ovom slucaju crtamo jednostavnu kocku. Vi cete koristiti rekonstruisana temena\n",
    "temenaKocke = pts3D #np.array([[0,0, 3], [0, 3,3], [3,3,3],[3, 0,3],[0,0,0], [0, 3,0], [3, 3,0],[3,0,0]] )\n",
    "# Ovo su ivice kocke zadate indeksima temena\n",
    "ivice = [[0, 1], [0, 3], [0, 4], [2, 3], [2, 1], [2, 6], [5, 6], [5, 4], [5, 1], [7, 6],\n",
    "[7, 3], [7, 4],\n",
    "[9, 10], [9, 12], [9, 13], [11, 12], [11, 10], [11, 15], [14, 15],\n",
    "[14, 13], [14, 10], [16, 15], [16, 12], [16,13]]\n",
    "\n",
    "# dodatne mogucnosti istrazite sami\n",
    "\n",
    "#  prikaz scene - koristi \"plotly\" biblioteku\n",
    "def prikazKocke(): \n",
    "    # izdvajamo x,y,z koordinate svih tacaka\n",
    "    xdata = (np.transpose(temenaKocke))[0]\n",
    "    ydata = (np.transpose(temenaKocke))[1]\n",
    "    zdata = (np.transpose(temenaKocke))[2]\n",
    "    # u data1 ubacujemo sve sto treba naccrtati\n",
    "    data1 = []\n",
    "    # za svaku ivicu crtamo duz na osnovu koordinata\n",
    "    for i in range(len(ivice)):\n",
    "        data1.append(go.Scatter3d(x=[xdata[ivice[i][0]], xdata[ivice[i][1]]], y=[ydata[ivice[i][0]], ydata[ivice[i][1]]],z=[zdata[ivice[i][0]], zdata[ivice[i][1]]]))\n",
    "    fig = go.Figure(data = data1 )\n",
    "    # da ne prikazuje legendu\n",
    "    fig.update_layout(showlegend=False)\n",
    "    # pravi html fajl (ako zelite da napravite \"rotatable\" 3D rekonstruciju)\n",
    "    # birate kao parametar velicinu apleta. fulhtml=False je vazno da ne bi pravio ogroman fajl\n",
    "    # ovde stavite neki vas folder\n",
    "    fig.write_html(\"./rekonstrukcija\", include_plotlyjs = 'cdn', default_width = '800px', default_height = '600px', full_html = False) #Modifiy the html file\n",
    "    fig.show()\n",
    "\n",
    "prikazKocke()"
   ]
  },
  {
   "cell_type": "code",
   "execution_count": 76,
   "id": "bc026106",
   "metadata": {},
   "outputs": [],
   "source": [
    "def afinize(tacka):\n",
    "    return list(map(lambda x : x / tacka[2], tacka))[:-1]\n",
    "def cross(x, y):\n",
    "    return np.cross(x, y)\n",
    "def tacka_nedogleda(t1, t2, t3, t4):\n",
    "    return list(cross(cross(t1, t2), cross(t3, t4)))\n",
    "def osmoteme(lista_tacaka):\n",
    "    t1, t2, t3, t4, t6, t7, t8 = lista_tacaka\n",
    "    \n",
    "    xb = tacka_nedogleda(t2, t6, t7, t3)\n",
    "    yb = tacka_nedogleda(t2, t3, t4, t1)\n",
    "    return afinize(tacka_nedogleda(t8, yb, t1, xb))"
   ]
  },
  {
   "cell_type": "code",
   "execution_count": 78,
   "id": "9254e72d",
   "metadata": {},
   "outputs": [
    {
     "name": "stdout",
     "output_type": "stream",
     "text": [
      "[437.4405777331684, 200.09008289255718]\n",
      "[-22.07763721173984, 38.66060176035847]\n"
     ]
    }
   ],
   "source": [
    "tacke_leve_kocke=np.concatenate((tacke1[0:4],all1p[1:4]),axis=0)\n",
    "tacke_desne_kocke=np.concatenate((tacke2[0:4],all2p[1:4]),axis=0)\n",
    "print(osmoteme(tacke_leve_kocke))\n",
    "print(osmoteme(tacke_desne_kocke))"
   ]
  },
  {
   "cell_type": "code",
   "execution_count": null,
   "id": "d27fcf05",
   "metadata": {},
   "outputs": [],
   "source": []
  }
 ],
 "metadata": {
  "kernelspec": {
   "display_name": "Python 3 (ipykernel)",
   "language": "python",
   "name": "python3"
  },
  "language_info": {
   "codemirror_mode": {
    "name": "ipython",
    "version": 3
   },
   "file_extension": ".py",
   "mimetype": "text/x-python",
   "name": "python",
   "nbconvert_exporter": "python",
   "pygments_lexer": "ipython3",
   "version": "3.10.12"
  }
 },
 "nbformat": 4,
 "nbformat_minor": 5
}
